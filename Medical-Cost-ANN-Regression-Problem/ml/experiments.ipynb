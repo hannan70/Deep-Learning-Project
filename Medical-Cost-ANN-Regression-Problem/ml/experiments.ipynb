{
 "cells": [
  {
   "cell_type": "code",
   "execution_count": 176,
   "metadata": {},
   "outputs": [],
   "source": [
    "# import all necessary tools\n",
    "import pandas as pd\n",
    "import numbers as np\n",
    "import matplotlib.pyplot as plt\n",
    "import seaborn as sns\n",
    "import pickle\n",
    "\n",
    "import tensorflow as tf\n",
    "from tensorflow.keras.models import Sequential\n",
    "from tensorflow.keras.layers import Dense\n",
    "from tensorflow.keras.callbacks import EarlyStopping\n",
    "from sklearn.model_selection import train_test_split\n",
    "from sklearn.preprocessing import LabelEncoder, OneHotEncoder\n",
    "from sklearn.preprocessing import StandardScaler\n",
    "\n"
   ]
  },
  {
   "cell_type": "code",
   "execution_count": 177,
   "metadata": {},
   "outputs": [
    {
     "data": {
      "text/html": [
       "<div>\n",
       "<style scoped>\n",
       "    .dataframe tbody tr th:only-of-type {\n",
       "        vertical-align: middle;\n",
       "    }\n",
       "\n",
       "    .dataframe tbody tr th {\n",
       "        vertical-align: top;\n",
       "    }\n",
       "\n",
       "    .dataframe thead th {\n",
       "        text-align: right;\n",
       "    }\n",
       "</style>\n",
       "<table border=\"1\" class=\"dataframe\">\n",
       "  <thead>\n",
       "    <tr style=\"text-align: right;\">\n",
       "      <th></th>\n",
       "      <th>age</th>\n",
       "      <th>sex</th>\n",
       "      <th>bmi</th>\n",
       "      <th>children</th>\n",
       "      <th>smoker</th>\n",
       "      <th>region</th>\n",
       "      <th>charges</th>\n",
       "    </tr>\n",
       "  </thead>\n",
       "  <tbody>\n",
       "    <tr>\n",
       "      <th>0</th>\n",
       "      <td>19</td>\n",
       "      <td>female</td>\n",
       "      <td>27.900</td>\n",
       "      <td>0</td>\n",
       "      <td>yes</td>\n",
       "      <td>southwest</td>\n",
       "      <td>16884.92400</td>\n",
       "    </tr>\n",
       "    <tr>\n",
       "      <th>1</th>\n",
       "      <td>18</td>\n",
       "      <td>male</td>\n",
       "      <td>33.770</td>\n",
       "      <td>1</td>\n",
       "      <td>no</td>\n",
       "      <td>southeast</td>\n",
       "      <td>1725.55230</td>\n",
       "    </tr>\n",
       "    <tr>\n",
       "      <th>2</th>\n",
       "      <td>28</td>\n",
       "      <td>male</td>\n",
       "      <td>33.000</td>\n",
       "      <td>3</td>\n",
       "      <td>no</td>\n",
       "      <td>southeast</td>\n",
       "      <td>4449.46200</td>\n",
       "    </tr>\n",
       "    <tr>\n",
       "      <th>3</th>\n",
       "      <td>33</td>\n",
       "      <td>male</td>\n",
       "      <td>22.705</td>\n",
       "      <td>0</td>\n",
       "      <td>no</td>\n",
       "      <td>northwest</td>\n",
       "      <td>21984.47061</td>\n",
       "    </tr>\n",
       "    <tr>\n",
       "      <th>4</th>\n",
       "      <td>32</td>\n",
       "      <td>male</td>\n",
       "      <td>28.880</td>\n",
       "      <td>0</td>\n",
       "      <td>no</td>\n",
       "      <td>northwest</td>\n",
       "      <td>3866.85520</td>\n",
       "    </tr>\n",
       "  </tbody>\n",
       "</table>\n",
       "</div>"
      ],
      "text/plain": [
       "   age     sex     bmi  children smoker     region      charges\n",
       "0   19  female  27.900         0    yes  southwest  16884.92400\n",
       "1   18    male  33.770         1     no  southeast   1725.55230\n",
       "2   28    male  33.000         3     no  southeast   4449.46200\n",
       "3   33    male  22.705         0     no  northwest  21984.47061\n",
       "4   32    male  28.880         0     no  northwest   3866.85520"
      ]
     },
     "execution_count": 177,
     "metadata": {},
     "output_type": "execute_result"
    }
   ],
   "source": [
    "# load dataset\n",
    "df = pd.read_csv(\"../ml/insurance.csv\")\n",
    "df.head()"
   ]
  },
  {
   "cell_type": "code",
   "execution_count": 178,
   "metadata": {},
   "outputs": [
    {
     "data": {
      "text/plain": [
       "age         0\n",
       "sex         0\n",
       "bmi         0\n",
       "children    0\n",
       "smoker      0\n",
       "region      0\n",
       "charges     0\n",
       "dtype: int64"
      ]
     },
     "execution_count": 178,
     "metadata": {},
     "output_type": "execute_result"
    }
   ],
   "source": [
    "# check null \n",
    "df.isnull().sum()"
   ]
  },
  {
   "cell_type": "code",
   "execution_count": 179,
   "metadata": {},
   "outputs": [
    {
     "data": {
      "text/plain": [
       "region\n",
       "southeast    364\n",
       "southwest    325\n",
       "northwest    325\n",
       "northeast    324\n",
       "Name: count, dtype: int64"
      ]
     },
     "execution_count": 179,
     "metadata": {},
     "output_type": "execute_result"
    }
   ],
   "source": [
    "df['region'].value_counts()"
   ]
  },
  {
   "cell_type": "code",
   "execution_count": 180,
   "metadata": {},
   "outputs": [],
   "source": [
    "# Apply Label Encoding for sex\n",
    "sex_label_encoder = LabelEncoder()\n",
    "df['sex'] = sex_label_encoder.fit_transform(df['sex'])\n",
    " "
   ]
  },
  {
   "cell_type": "code",
   "execution_count": 181,
   "metadata": {},
   "outputs": [],
   "source": [
    "# apply label encoding for smoker\n",
    "smoker_label_encoding = LabelEncoder()\n",
    "df['smoker'] = smoker_label_encoding.fit_transform(df['smoker'])"
   ]
  },
  {
   "cell_type": "code",
   "execution_count": 182,
   "metadata": {},
   "outputs": [
    {
     "data": {
      "text/plain": [
       "array([[0., 0., 0., 1.],\n",
       "       [0., 0., 1., 0.],\n",
       "       [0., 0., 1., 0.],\n",
       "       ...,\n",
       "       [0., 0., 1., 0.],\n",
       "       [0., 0., 0., 1.],\n",
       "       [0., 1., 0., 0.]])"
      ]
     },
     "execution_count": 182,
     "metadata": {},
     "output_type": "execute_result"
    }
   ],
   "source": [
    "# apply one hot encoding for region\n",
    "region_one_hot_encoding = OneHotEncoder()\n",
    "reg_encoder = region_one_hot_encoding.fit_transform(df[['region']]).toarray()\n",
    "reg_encoder"
   ]
  },
  {
   "cell_type": "code",
   "execution_count": 183,
   "metadata": {},
   "outputs": [],
   "source": [
    "reg_encoder_column = region_one_hot_encoding.get_feature_names_out(['region'])\n",
    "\n",
    "reg_df = pd.DataFrame(reg_encoder, columns=reg_encoder_column)\n",
    "\n",
    "# drop region column\n",
    "df.drop('region', axis=1, inplace=True)"
   ]
  },
  {
   "cell_type": "code",
   "execution_count": 184,
   "metadata": {},
   "outputs": [
    {
     "data": {
      "text/html": [
       "<div>\n",
       "<style scoped>\n",
       "    .dataframe tbody tr th:only-of-type {\n",
       "        vertical-align: middle;\n",
       "    }\n",
       "\n",
       "    .dataframe tbody tr th {\n",
       "        vertical-align: top;\n",
       "    }\n",
       "\n",
       "    .dataframe thead th {\n",
       "        text-align: right;\n",
       "    }\n",
       "</style>\n",
       "<table border=\"1\" class=\"dataframe\">\n",
       "  <thead>\n",
       "    <tr style=\"text-align: right;\">\n",
       "      <th></th>\n",
       "      <th>age</th>\n",
       "      <th>sex</th>\n",
       "      <th>bmi</th>\n",
       "      <th>children</th>\n",
       "      <th>smoker</th>\n",
       "      <th>charges</th>\n",
       "      <th>region_northeast</th>\n",
       "      <th>region_northwest</th>\n",
       "      <th>region_southeast</th>\n",
       "      <th>region_southwest</th>\n",
       "    </tr>\n",
       "  </thead>\n",
       "  <tbody>\n",
       "    <tr>\n",
       "      <th>0</th>\n",
       "      <td>19</td>\n",
       "      <td>0</td>\n",
       "      <td>27.900</td>\n",
       "      <td>0</td>\n",
       "      <td>1</td>\n",
       "      <td>16884.92400</td>\n",
       "      <td>0.0</td>\n",
       "      <td>0.0</td>\n",
       "      <td>0.0</td>\n",
       "      <td>1.0</td>\n",
       "    </tr>\n",
       "    <tr>\n",
       "      <th>1</th>\n",
       "      <td>18</td>\n",
       "      <td>1</td>\n",
       "      <td>33.770</td>\n",
       "      <td>1</td>\n",
       "      <td>0</td>\n",
       "      <td>1725.55230</td>\n",
       "      <td>0.0</td>\n",
       "      <td>0.0</td>\n",
       "      <td>1.0</td>\n",
       "      <td>0.0</td>\n",
       "    </tr>\n",
       "    <tr>\n",
       "      <th>2</th>\n",
       "      <td>28</td>\n",
       "      <td>1</td>\n",
       "      <td>33.000</td>\n",
       "      <td>3</td>\n",
       "      <td>0</td>\n",
       "      <td>4449.46200</td>\n",
       "      <td>0.0</td>\n",
       "      <td>0.0</td>\n",
       "      <td>1.0</td>\n",
       "      <td>0.0</td>\n",
       "    </tr>\n",
       "    <tr>\n",
       "      <th>3</th>\n",
       "      <td>33</td>\n",
       "      <td>1</td>\n",
       "      <td>22.705</td>\n",
       "      <td>0</td>\n",
       "      <td>0</td>\n",
       "      <td>21984.47061</td>\n",
       "      <td>0.0</td>\n",
       "      <td>1.0</td>\n",
       "      <td>0.0</td>\n",
       "      <td>0.0</td>\n",
       "    </tr>\n",
       "    <tr>\n",
       "      <th>4</th>\n",
       "      <td>32</td>\n",
       "      <td>1</td>\n",
       "      <td>28.880</td>\n",
       "      <td>0</td>\n",
       "      <td>0</td>\n",
       "      <td>3866.85520</td>\n",
       "      <td>0.0</td>\n",
       "      <td>1.0</td>\n",
       "      <td>0.0</td>\n",
       "      <td>0.0</td>\n",
       "    </tr>\n",
       "    <tr>\n",
       "      <th>...</th>\n",
       "      <td>...</td>\n",
       "      <td>...</td>\n",
       "      <td>...</td>\n",
       "      <td>...</td>\n",
       "      <td>...</td>\n",
       "      <td>...</td>\n",
       "      <td>...</td>\n",
       "      <td>...</td>\n",
       "      <td>...</td>\n",
       "      <td>...</td>\n",
       "    </tr>\n",
       "    <tr>\n",
       "      <th>1333</th>\n",
       "      <td>50</td>\n",
       "      <td>1</td>\n",
       "      <td>30.970</td>\n",
       "      <td>3</td>\n",
       "      <td>0</td>\n",
       "      <td>10600.54830</td>\n",
       "      <td>0.0</td>\n",
       "      <td>1.0</td>\n",
       "      <td>0.0</td>\n",
       "      <td>0.0</td>\n",
       "    </tr>\n",
       "    <tr>\n",
       "      <th>1334</th>\n",
       "      <td>18</td>\n",
       "      <td>0</td>\n",
       "      <td>31.920</td>\n",
       "      <td>0</td>\n",
       "      <td>0</td>\n",
       "      <td>2205.98080</td>\n",
       "      <td>1.0</td>\n",
       "      <td>0.0</td>\n",
       "      <td>0.0</td>\n",
       "      <td>0.0</td>\n",
       "    </tr>\n",
       "    <tr>\n",
       "      <th>1335</th>\n",
       "      <td>18</td>\n",
       "      <td>0</td>\n",
       "      <td>36.850</td>\n",
       "      <td>0</td>\n",
       "      <td>0</td>\n",
       "      <td>1629.83350</td>\n",
       "      <td>0.0</td>\n",
       "      <td>0.0</td>\n",
       "      <td>1.0</td>\n",
       "      <td>0.0</td>\n",
       "    </tr>\n",
       "    <tr>\n",
       "      <th>1336</th>\n",
       "      <td>21</td>\n",
       "      <td>0</td>\n",
       "      <td>25.800</td>\n",
       "      <td>0</td>\n",
       "      <td>0</td>\n",
       "      <td>2007.94500</td>\n",
       "      <td>0.0</td>\n",
       "      <td>0.0</td>\n",
       "      <td>0.0</td>\n",
       "      <td>1.0</td>\n",
       "    </tr>\n",
       "    <tr>\n",
       "      <th>1337</th>\n",
       "      <td>61</td>\n",
       "      <td>0</td>\n",
       "      <td>29.070</td>\n",
       "      <td>0</td>\n",
       "      <td>1</td>\n",
       "      <td>29141.36030</td>\n",
       "      <td>0.0</td>\n",
       "      <td>1.0</td>\n",
       "      <td>0.0</td>\n",
       "      <td>0.0</td>\n",
       "    </tr>\n",
       "  </tbody>\n",
       "</table>\n",
       "<p>1338 rows × 10 columns</p>\n",
       "</div>"
      ],
      "text/plain": [
       "      age  sex     bmi  ...  region_northwest  region_southeast  region_southwest\n",
       "0      19    0  27.900  ...               0.0               0.0               1.0\n",
       "1      18    1  33.770  ...               0.0               1.0               0.0\n",
       "2      28    1  33.000  ...               0.0               1.0               0.0\n",
       "3      33    1  22.705  ...               1.0               0.0               0.0\n",
       "4      32    1  28.880  ...               1.0               0.0               0.0\n",
       "...   ...  ...     ...  ...               ...               ...               ...\n",
       "1333   50    1  30.970  ...               1.0               0.0               0.0\n",
       "1334   18    0  31.920  ...               0.0               0.0               0.0\n",
       "1335   18    0  36.850  ...               0.0               1.0               0.0\n",
       "1336   21    0  25.800  ...               0.0               0.0               1.0\n",
       "1337   61    0  29.070  ...               1.0               0.0               0.0\n",
       "\n",
       "[1338 rows x 10 columns]"
      ]
     },
     "execution_count": 184,
     "metadata": {},
     "output_type": "execute_result"
    }
   ],
   "source": [
    "df = pd.concat([df, reg_df], axis=1)\n",
    "df"
   ]
  },
  {
   "cell_type": "code",
   "execution_count": 185,
   "metadata": {},
   "outputs": [
    {
     "name": "stdout",
     "output_type": "stream",
     "text": [
      "<class 'pandas.core.frame.DataFrame'>\n",
      "RangeIndex: 1338 entries, 0 to 1337\n",
      "Data columns (total 10 columns):\n",
      " #   Column            Non-Null Count  Dtype  \n",
      "---  ------            --------------  -----  \n",
      " 0   age               1338 non-null   int64  \n",
      " 1   sex               1338 non-null   int32  \n",
      " 2   bmi               1338 non-null   float64\n",
      " 3   children          1338 non-null   int64  \n",
      " 4   smoker            1338 non-null   int32  \n",
      " 5   charges           1338 non-null   float64\n",
      " 6   region_northeast  1338 non-null   float64\n",
      " 7   region_northwest  1338 non-null   float64\n",
      " 8   region_southeast  1338 non-null   float64\n",
      " 9   region_southwest  1338 non-null   float64\n",
      "dtypes: float64(6), int32(2), int64(2)\n",
      "memory usage: 94.2 KB\n"
     ]
    }
   ],
   "source": [
    "df.info()"
   ]
  },
  {
   "cell_type": "code",
   "execution_count": 186,
   "metadata": {},
   "outputs": [],
   "source": [
    "# save file\n",
    "with open(\"sex_label_encoder.pkl\", 'wb') as file:\n",
    "    pickle.dump(sex_label_encoder, file)\n",
    "\n",
    "with open('smoker_label_encoding.pkl', 'wb') as file:\n",
    "    pickle.dump(smoker_label_encoding, file)\n",
    "\n",
    "with open(\"region_one_hot_encoding.pkl\", 'wb') as file:\n",
    "    pickle.dump(region_one_hot_encoding, file)"
   ]
  },
  {
   "cell_type": "code",
   "execution_count": 187,
   "metadata": {},
   "outputs": [],
   "source": [
    "# Create X and y\n",
    "X = df.drop(\"charges\", axis=1)\n",
    "y = df['charges']\n",
    "\n",
    "# Split the dataset into train and test set\n",
    "X_train, X_test, y_train, y_test = train_test_split(X, y, test_size=0.2, random_state=42)"
   ]
  },
  {
   "cell_type": "code",
   "execution_count": 188,
   "metadata": {},
   "outputs": [
    {
     "data": {
      "text/plain": [
       "560      9193.83850\n",
       "1285     8534.67180\n",
       "1142    27117.99378\n",
       "969      8596.82780\n",
       "486     12475.35130\n",
       "           ...     \n",
       "1095     4561.18850\n",
       "1130     8582.30230\n",
       "1294    11931.12525\n",
       "860     46113.51100\n",
       "1126    10214.63600\n",
       "Name: charges, Length: 1070, dtype: float64"
      ]
     },
     "execution_count": 188,
     "metadata": {},
     "output_type": "execute_result"
    }
   ],
   "source": [
    "y_train"
   ]
  },
  {
   "cell_type": "code",
   "execution_count": 189,
   "metadata": {},
   "outputs": [
    {
     "data": {
      "image/png": "[encoded data removed]",
      "text/plain": [
       "<Figure size 800x600 with 1 Axes>"
      ]
     },
     "metadata": {},
     "output_type": "display_data"
    }
   ],
   "source": [
    "# before apply standaredScaler\n",
    "plt.figure(figsize=(8, 6))\n",
    "sns.boxplot(data=X_train)\n",
    "plt.show()"
   ]
  },
  {
   "cell_type": "code",
   "execution_count": 190,
   "metadata": {},
   "outputs": [],
   "source": [
    "# apply standaredScaler\n",
    "scaler = StandardScaler()\n",
    "X_train = scaler.fit_transform(X_train)\n",
    "X_test = scaler.transform(X_test)"
   ]
  },
  {
   "cell_type": "code",
   "execution_count": 191,
   "metadata": {},
   "outputs": [
    {
     "data": {
      "image/png": "[encoded data removed]",
      "text/plain": [
       "<Figure size 800x600 with 1 Axes>"
      ]
     },
     "metadata": {},
     "output_type": "display_data"
    }
   ],
   "source": [
    "# After apply standardScaler\n",
    "plt.figure(figsize=(8, 6))\n",
    "sns.boxplot(data=X_train)\n",
    "plt.show()"
   ]
  },
  {
   "cell_type": "code",
   "execution_count": 192,
   "metadata": {},
   "outputs": [],
   "source": [
    "# save scaler file\n",
    "with open(\"scaler.pkl\", 'wb') as file:\n",
    "    pickle.dump(scaler, file)"
   ]
  },
  {
   "cell_type": "markdown",
   "metadata": {},
   "source": [
    "## ANN Implementation"
   ]
  },
  {
   "cell_type": "code",
   "execution_count": 193,
   "metadata": {},
   "outputs": [],
   "source": [
    "# Init ANN\n",
    "ann = Sequential()"
   ]
  },
  {
   "cell_type": "code",
   "execution_count": 194,
   "metadata": {},
   "outputs": [
    {
     "data": {
      "text/plain": [
       "9"
      ]
     },
     "execution_count": 194,
     "metadata": {},
     "output_type": "execute_result"
    }
   ],
   "source": [
    "X_train.shape[1]"
   ]
  },
  {
   "cell_type": "code",
   "execution_count": 195,
   "metadata": {},
   "outputs": [],
   "source": [
    "# Adding first hidden layer\n",
    "ann.add(Dense(64, activation=\"relu\", input_shape=(X_train.shape[1], )))"
   ]
  },
  {
   "cell_type": "code",
   "execution_count": 196,
   "metadata": {},
   "outputs": [],
   "source": [
    "# Adding second hidden layer\n",
    "ann.add(Dense(32, activation=\"relu\"))"
   ]
  },
  {
   "cell_type": "code",
   "execution_count": 197,
   "metadata": {},
   "outputs": [],
   "source": [
    "# output layer\n",
    "ann.add(Dense(1))"
   ]
  },
  {
   "cell_type": "code",
   "execution_count": 198,
   "metadata": {},
   "outputs": [],
   "source": [
    "# compile the ann\n",
    "ann.compile(optimizer=\"adam\", loss=\"mean_absolute_error\", metrics=[\"mae\"])"
   ]
  },
  {
   "cell_type": "code",
   "execution_count": 199,
   "metadata": {},
   "outputs": [
    {
     "name": "stdout",
     "output_type": "stream",
     "text": [
      "Model: \"sequential_3\"\n",
      "_________________________________________________________________\n",
      " Layer (type)                Output Shape              Param #   \n",
      "=================================================================\n",
      " dense_6 (Dense)             (None, 64)                640       \n",
      "                                                                 \n",
      " dense_7 (Dense)             (None, 32)                2080      \n",
      "                                                                 \n",
      " dense_8 (Dense)             (None, 1)                 33        \n",
      "                                                                 \n",
      "=================================================================\n",
      "Total params: 2753 (10.75 KB)\n",
      "Trainable params: 2753 (10.75 KB)\n",
      "Non-trainable params: 0 (0.00 Byte)\n",
      "_________________________________________________________________\n"
     ]
    }
   ],
   "source": [
    "ann.summary()"
   ]
  },
  {
   "cell_type": "code",
   "execution_count": 200,
   "metadata": {},
   "outputs": [],
   "source": [
    "# Setup callback \n",
    "early_stoping_callback = EarlyStopping(monitor=\"val_loss\", patience=10, restore_best_weights=True)"
   ]
  },
  {
   "cell_type": "code",
   "execution_count": 201,
   "metadata": {},
   "outputs": [
    {
     "name": "stdout",
     "output_type": "stream",
     "text": [
      "Epoch 1/100\n",
      "34/34 [==============================] - 1s 6ms/step - loss: 13344.8887 - mae: 13344.8887 - val_loss: 12965.6436 - val_mae: 12965.6436\n",
      "Epoch 2/100\n",
      "34/34 [==============================] - 0s 2ms/step - loss: 13341.4590 - mae: 13341.4590 - val_loss: 12960.8730 - val_mae: 12960.8721\n",
      "Epoch 3/100\n",
      "34/34 [==============================] - 0s 2ms/step - loss: 13334.8379 - mae: 13334.8379 - val_loss: 12951.6689 - val_mae: 12951.6689\n",
      "Epoch 4/100\n",
      "34/34 [==============================] - 0s 2ms/step - loss: 13322.4551 - mae: 13322.4551 - val_loss: 12935.0674 - val_mae: 12935.0674\n",
      "Epoch 5/100\n",
      "34/34 [==============================] - 0s 2ms/step - loss: 13300.9121 - mae: 13300.9121 - val_loss: 12907.0674 - val_mae: 12907.0674\n",
      "Epoch 6/100\n",
      "34/34 [==============================] - 0s 2ms/step - loss: 13266.1836 - mae: 13266.1836 - val_loss: 12863.8750 - val_mae: 12863.8750\n",
      "Epoch 7/100\n",
      "34/34 [==============================] - 0s 2ms/step - loss: 13214.6387 - mae: 13214.6387 - val_loss: 12801.6348 - val_mae: 12801.6348\n",
      "Epoch 8/100\n",
      "34/34 [==============================] - 0s 2ms/step - loss: 13142.6494 - mae: 13142.6494 - val_loss: 12717.4072 - val_mae: 12717.4072\n",
      "Epoch 9/100\n",
      "34/34 [==============================] - 0s 2ms/step - loss: 13046.9121 - mae: 13046.9121 - val_loss: 12607.5723 - val_mae: 12607.5723\n",
      "Epoch 10/100\n",
      "34/34 [==============================] - 0s 2ms/step - loss: 12924.5010 - mae: 12924.5010 - val_loss: 12468.3096 - val_mae: 12468.3096\n",
      "Epoch 11/100\n",
      "34/34 [==============================] - 0s 2ms/step - loss: 12771.6436 - mae: 12771.6436 - val_loss: 12297.2354 - val_mae: 12297.2354\n",
      "Epoch 12/100\n",
      "34/34 [==============================] - 0s 2ms/step - loss: 12585.4805 - mae: 12585.4805 - val_loss: 12091.0732 - val_mae: 12091.0732\n",
      "Epoch 13/100\n",
      "34/34 [==============================] - 0s 2ms/step - loss: 12364.7334 - mae: 12364.7334 - val_loss: 11852.2559 - val_mae: 11852.2559\n",
      "Epoch 14/100\n",
      "34/34 [==============================] - 0s 2ms/step - loss: 12112.9639 - mae: 12112.9639 - val_loss: 11586.0137 - val_mae: 11586.0137\n",
      "Epoch 15/100\n",
      "34/34 [==============================] - 0s 2ms/step - loss: 11836.2422 - mae: 11836.2422 - val_loss: 11302.3438 - val_mae: 11302.3438\n",
      "Epoch 16/100\n",
      "34/34 [==============================] - 0s 2ms/step - loss: 11540.8145 - mae: 11540.8145 - val_loss: 11007.2480 - val_mae: 11007.2480\n",
      "Epoch 17/100\n",
      "34/34 [==============================] - 0s 2ms/step - loss: 11234.9990 - mae: 11234.9990 - val_loss: 10701.0312 - val_mae: 10701.0312\n",
      "Epoch 18/100\n",
      "34/34 [==============================] - 0s 2ms/step - loss: 10916.4707 - mae: 10916.4707 - val_loss: 10390.6348 - val_mae: 10390.6348\n",
      "Epoch 19/100\n",
      "34/34 [==============================] - 0s 2ms/step - loss: 10576.3389 - mae: 10576.3389 - val_loss: 10066.2539 - val_mae: 10066.2539\n",
      "Epoch 20/100\n",
      "34/34 [==============================] - 0s 2ms/step - loss: 10212.8281 - mae: 10212.8281 - val_loss: 9723.5225 - val_mae: 9723.5225\n",
      "Epoch 21/100\n",
      "34/34 [==============================] - 0s 2ms/step - loss: 9831.4785 - mae: 9831.4785 - val_loss: 9377.8008 - val_mae: 9377.8008\n",
      "Epoch 22/100\n",
      "34/34 [==============================] - 0s 2ms/step - loss: 9445.6123 - mae: 9445.6123 - val_loss: 9027.6943 - val_mae: 9027.6943\n",
      "Epoch 23/100\n",
      "34/34 [==============================] - 0s 2ms/step - loss: 9062.5186 - mae: 9062.5186 - val_loss: 8695.8447 - val_mae: 8695.8447\n",
      "Epoch 24/100\n",
      "34/34 [==============================] - 0s 2ms/step - loss: 8695.7344 - mae: 8695.7344 - val_loss: 8377.3477 - val_mae: 8377.3477\n",
      "Epoch 25/100\n",
      "34/34 [==============================] - 0s 2ms/step - loss: 8337.0205 - mae: 8337.0205 - val_loss: 8067.7295 - val_mae: 8067.7295\n",
      "Epoch 26/100\n",
      "34/34 [==============================] - 0s 2ms/step - loss: 7997.3618 - mae: 7997.3618 - val_loss: 7778.8574 - val_mae: 7778.8574\n",
      "Epoch 27/100\n",
      "34/34 [==============================] - 0s 2ms/step - loss: 7685.1909 - mae: 7685.1909 - val_loss: 7523.1543 - val_mae: 7523.1543\n",
      "Epoch 28/100\n",
      "34/34 [==============================] - 0s 2ms/step - loss: 7394.3032 - mae: 7394.3032 - val_loss: 7284.7266 - val_mae: 7284.7266\n",
      "Epoch 29/100\n",
      "34/34 [==============================] - 0s 2ms/step - loss: 7120.0703 - mae: 7120.0703 - val_loss: 7064.3325 - val_mae: 7064.3325\n",
      "Epoch 30/100\n",
      "34/34 [==============================] - 0s 2ms/step - loss: 6866.0024 - mae: 6866.0024 - val_loss: 6847.2036 - val_mae: 6847.2036\n",
      "Epoch 31/100\n",
      "34/34 [==============================] - 0s 2ms/step - loss: 6638.8472 - mae: 6638.8472 - val_loss: 6636.2178 - val_mae: 6636.2178\n",
      "Epoch 32/100\n",
      "34/34 [==============================] - 0s 2ms/step - loss: 6424.5908 - mae: 6424.5908 - val_loss: 6436.9268 - val_mae: 6436.9268\n",
      "Epoch 33/100\n",
      "34/34 [==============================] - 0s 2ms/step - loss: 6226.3853 - mae: 6226.3853 - val_loss: 6234.2686 - val_mae: 6234.2686\n",
      "Epoch 34/100\n",
      "34/34 [==============================] - 0s 2ms/step - loss: 6036.6138 - mae: 6036.6138 - val_loss: 6038.2637 - val_mae: 6038.2637\n",
      "Epoch 35/100\n",
      "34/34 [==============================] - 0s 2ms/step - loss: 5850.0337 - mae: 5850.0337 - val_loss: 5835.1685 - val_mae: 5835.1685\n",
      "Epoch 36/100\n",
      "34/34 [==============================] - 0s 3ms/step - loss: 5663.2285 - mae: 5663.2285 - val_loss: 5635.9575 - val_mae: 5635.9575\n",
      "Epoch 37/100\n",
      "34/34 [==============================] - 0s 2ms/step - loss: 5477.6660 - mae: 5477.6660 - val_loss: 5436.5332 - val_mae: 5436.5332\n",
      "Epoch 38/100\n",
      "34/34 [==============================] - 0s 2ms/step - loss: 5292.0518 - mae: 5292.0518 - val_loss: 5231.9316 - val_mae: 5231.9316\n",
      "Epoch 39/100\n",
      "34/34 [==============================] - 0s 2ms/step - loss: 5103.5273 - mae: 5103.5273 - val_loss: 5021.5156 - val_mae: 5021.5156\n",
      "Epoch 40/100\n",
      "34/34 [==============================] - 0s 2ms/step - loss: 4912.4492 - mae: 4912.4492 - val_loss: 4811.6831 - val_mae: 4811.6831\n",
      "Epoch 41/100\n",
      "34/34 [==============================] - 0s 2ms/step - loss: 4724.3862 - mae: 4724.3862 - val_loss: 4591.9238 - val_mae: 4591.9238\n",
      "Epoch 42/100\n",
      "34/34 [==============================] - 0s 2ms/step - loss: 4539.6147 - mae: 4539.6147 - val_loss: 4390.2563 - val_mae: 4390.2563\n",
      "Epoch 43/100\n",
      "34/34 [==============================] - 0s 2ms/step - loss: 4365.9014 - mae: 4365.9014 - val_loss: 4197.0459 - val_mae: 4197.0459\n",
      "Epoch 44/100\n",
      "34/34 [==============================] - 0s 2ms/step - loss: 4206.6543 - mae: 4206.6543 - val_loss: 4030.0344 - val_mae: 4030.0344\n",
      "Epoch 45/100\n",
      "34/34 [==============================] - 0s 2ms/step - loss: 4071.3350 - mae: 4071.3350 - val_loss: 3887.5042 - val_mae: 3887.5042\n",
      "Epoch 46/100\n",
      "34/34 [==============================] - 0s 2ms/step - loss: 3959.8809 - mae: 3959.8809 - val_loss: 3782.9775 - val_mae: 3782.9775\n",
      "Epoch 47/100\n",
      "34/34 [==============================] - 0s 2ms/step - loss: 3873.9810 - mae: 3873.9810 - val_loss: 3707.1746 - val_mae: 3707.1746\n",
      "Epoch 48/100\n",
      "34/34 [==============================] - 0s 2ms/step - loss: 3813.3608 - mae: 3813.3608 - val_loss: 3648.3623 - val_mae: 3648.3623\n",
      "Epoch 49/100\n",
      "34/34 [==============================] - 0s 2ms/step - loss: 3763.3623 - mae: 3763.3623 - val_loss: 3595.9912 - val_mae: 3595.9912\n",
      "Epoch 50/100\n",
      "34/34 [==============================] - 0s 2ms/step - loss: 3717.8538 - mae: 3717.8538 - val_loss: 3547.0647 - val_mae: 3547.0647\n",
      "Epoch 51/100\n",
      "34/34 [==============================] - 0s 2ms/step - loss: 3675.2258 - mae: 3675.2258 - val_loss: 3509.4438 - val_mae: 3509.4438\n",
      "Epoch 52/100\n",
      "34/34 [==============================] - 0s 2ms/step - loss: 3642.5215 - mae: 3642.5215 - val_loss: 3479.8352 - val_mae: 3479.8352\n",
      "Epoch 53/100\n",
      "34/34 [==============================] - 0s 2ms/step - loss: 3614.6985 - mae: 3614.6985 - val_loss: 3449.4736 - val_mae: 3449.4736\n",
      "Epoch 54/100\n",
      "34/34 [==============================] - 0s 2ms/step - loss: 3589.5181 - mae: 3589.5181 - val_loss: 3426.7415 - val_mae: 3426.7415\n",
      "Epoch 55/100\n",
      "34/34 [==============================] - 0s 2ms/step - loss: 3567.1357 - mae: 3567.1357 - val_loss: 3400.0461 - val_mae: 3400.0461\n",
      "Epoch 56/100\n",
      "34/34 [==============================] - 0s 2ms/step - loss: 3542.7349 - mae: 3542.7349 - val_loss: 3376.5786 - val_mae: 3376.5786\n",
      "Epoch 57/100\n",
      "34/34 [==============================] - 0s 2ms/step - loss: 3522.2253 - mae: 3522.2253 - val_loss: 3355.7976 - val_mae: 3355.7976\n",
      "Epoch 58/100\n",
      "34/34 [==============================] - 0s 2ms/step - loss: 3501.5195 - mae: 3501.5195 - val_loss: 3334.5129 - val_mae: 3334.5129\n",
      "Epoch 59/100\n",
      "34/34 [==============================] - 0s 2ms/step - loss: 3482.8262 - mae: 3482.8262 - val_loss: 3317.5134 - val_mae: 3317.5134\n",
      "Epoch 60/100\n",
      "34/34 [==============================] - 0s 2ms/step - loss: 3464.8333 - mae: 3464.8333 - val_loss: 3300.9526 - val_mae: 3300.9526\n",
      "Epoch 61/100\n",
      "34/34 [==============================] - 0s 2ms/step - loss: 3446.9939 - mae: 3446.9939 - val_loss: 3285.7305 - val_mae: 3285.7305\n",
      "Epoch 62/100\n",
      "34/34 [==============================] - 0s 2ms/step - loss: 3434.5464 - mae: 3434.5464 - val_loss: 3273.7805 - val_mae: 3273.7805\n",
      "Epoch 63/100\n",
      "34/34 [==============================] - 0s 2ms/step - loss: 3421.6030 - mae: 3421.6030 - val_loss: 3260.9736 - val_mae: 3260.9736\n",
      "Epoch 64/100\n",
      "34/34 [==============================] - 0s 2ms/step - loss: 3408.8987 - mae: 3408.8987 - val_loss: 3251.3972 - val_mae: 3251.3972\n",
      "Epoch 65/100\n",
      "34/34 [==============================] - 0s 2ms/step - loss: 3398.2395 - mae: 3398.2395 - val_loss: 3240.9368 - val_mae: 3240.9368\n",
      "Epoch 66/100\n",
      "34/34 [==============================] - 0s 2ms/step - loss: 3388.4102 - mae: 3388.4102 - val_loss: 3230.4226 - val_mae: 3230.4226\n",
      "Epoch 67/100\n",
      "34/34 [==============================] - 0s 2ms/step - loss: 3377.4387 - mae: 3377.4387 - val_loss: 3221.4094 - val_mae: 3221.4094\n",
      "Epoch 68/100\n",
      "34/34 [==============================] - 0s 2ms/step - loss: 3367.9375 - mae: 3367.9375 - val_loss: 3212.1309 - val_mae: 3212.1309\n",
      "Epoch 69/100\n",
      "34/34 [==============================] - 0s 2ms/step - loss: 3358.8894 - mae: 3358.8894 - val_loss: 3204.1826 - val_mae: 3204.1826\n",
      "Epoch 70/100\n",
      "34/34 [==============================] - 0s 2ms/step - loss: 3352.2346 - mae: 3352.2346 - val_loss: 3194.7795 - val_mae: 3194.7795\n",
      "Epoch 71/100\n",
      "34/34 [==============================] - 0s 2ms/step - loss: 3342.8972 - mae: 3342.8972 - val_loss: 3187.5986 - val_mae: 3187.5986\n",
      "Epoch 72/100\n",
      "34/34 [==============================] - 0s 2ms/step - loss: 3335.0679 - mae: 3335.0679 - val_loss: 3178.9707 - val_mae: 3178.9707\n",
      "Epoch 73/100\n",
      "34/34 [==============================] - 0s 2ms/step - loss: 3329.1213 - mae: 3329.1213 - val_loss: 3170.5950 - val_mae: 3170.5950\n",
      "Epoch 74/100\n",
      "34/34 [==============================] - 0s 2ms/step - loss: 3319.8594 - mae: 3319.8594 - val_loss: 3163.3284 - val_mae: 3163.3284\n",
      "Epoch 75/100\n",
      "34/34 [==============================] - 0s 2ms/step - loss: 3313.2886 - mae: 3313.2886 - val_loss: 3156.7158 - val_mae: 3156.7158\n",
      "Epoch 76/100\n",
      "34/34 [==============================] - 0s 2ms/step - loss: 3305.0107 - mae: 3305.0107 - val_loss: 3147.5476 - val_mae: 3147.5476\n",
      "Epoch 77/100\n",
      "34/34 [==============================] - 0s 2ms/step - loss: 3297.4807 - mae: 3297.4807 - val_loss: 3143.3926 - val_mae: 3143.3926\n",
      "Epoch 78/100\n",
      "34/34 [==============================] - 0s 2ms/step - loss: 3289.2976 - mae: 3289.2976 - val_loss: 3135.4851 - val_mae: 3135.4851\n",
      "Epoch 79/100\n",
      "34/34 [==============================] - 0s 2ms/step - loss: 3282.4734 - mae: 3282.4734 - val_loss: 3128.6641 - val_mae: 3128.6641\n",
      "Epoch 80/100\n",
      "34/34 [==============================] - 0s 2ms/step - loss: 3275.1917 - mae: 3275.1917 - val_loss: 3119.4526 - val_mae: 3119.4526\n",
      "Epoch 81/100\n",
      "34/34 [==============================] - 0s 2ms/step - loss: 3267.1707 - mae: 3267.1707 - val_loss: 3113.5203 - val_mae: 3113.5203\n",
      "Epoch 82/100\n",
      "34/34 [==============================] - 0s 2ms/step - loss: 3259.5283 - mae: 3259.5283 - val_loss: 3105.9788 - val_mae: 3105.9788\n",
      "Epoch 83/100\n",
      "34/34 [==============================] - 0s 2ms/step - loss: 3252.6958 - mae: 3252.6958 - val_loss: 3099.9246 - val_mae: 3099.9246\n",
      "Epoch 84/100\n",
      "34/34 [==============================] - 0s 2ms/step - loss: 3244.9436 - mae: 3244.9436 - val_loss: 3092.0391 - val_mae: 3092.0391\n",
      "Epoch 85/100\n",
      "34/34 [==============================] - 0s 2ms/step - loss: 3238.8994 - mae: 3238.8994 - val_loss: 3087.1746 - val_mae: 3087.1746\n",
      "Epoch 86/100\n",
      "34/34 [==============================] - 0s 2ms/step - loss: 3231.9507 - mae: 3231.9507 - val_loss: 3079.0059 - val_mae: 3079.0059\n",
      "Epoch 87/100\n",
      "34/34 [==============================] - 0s 2ms/step - loss: 3224.1152 - mae: 3224.1152 - val_loss: 3071.8528 - val_mae: 3071.8528\n",
      "Epoch 88/100\n",
      "34/34 [==============================] - 0s 2ms/step - loss: 3216.3503 - mae: 3216.3503 - val_loss: 3065.9468 - val_mae: 3065.9468\n",
      "Epoch 89/100\n",
      "34/34 [==============================] - 0s 2ms/step - loss: 3208.8669 - mae: 3208.8669 - val_loss: 3055.7161 - val_mae: 3055.7161\n",
      "Epoch 90/100\n",
      "34/34 [==============================] - 0s 2ms/step - loss: 3201.1033 - mae: 3201.1033 - val_loss: 3047.8589 - val_mae: 3047.8589\n",
      "Epoch 91/100\n",
      "34/34 [==============================] - 0s 2ms/step - loss: 3193.6057 - mae: 3193.6057 - val_loss: 3041.6050 - val_mae: 3041.6050\n",
      "Epoch 92/100\n",
      "34/34 [==============================] - 0s 2ms/step - loss: 3186.5027 - mae: 3186.5027 - val_loss: 3033.9116 - val_mae: 3033.9116\n",
      "Epoch 93/100\n",
      "34/34 [==============================] - 0s 2ms/step - loss: 3180.6194 - mae: 3180.6194 - val_loss: 3025.7002 - val_mae: 3025.7002\n",
      "Epoch 94/100\n",
      "34/34 [==============================] - 0s 2ms/step - loss: 3172.6499 - mae: 3172.6499 - val_loss: 3018.7881 - val_mae: 3018.7881\n",
      "Epoch 95/100\n",
      "34/34 [==============================] - 0s 2ms/step - loss: 3166.7351 - mae: 3166.7351 - val_loss: 3012.6096 - val_mae: 3012.6096\n",
      "Epoch 96/100\n",
      "34/34 [==============================] - 0s 2ms/step - loss: 3161.7361 - mae: 3161.7361 - val_loss: 3005.4436 - val_mae: 3005.4436\n",
      "Epoch 97/100\n",
      "34/34 [==============================] - 0s 2ms/step - loss: 3154.8398 - mae: 3154.8398 - val_loss: 3000.6287 - val_mae: 3000.6287\n",
      "Epoch 98/100\n",
      "34/34 [==============================] - 0s 2ms/step - loss: 3146.8953 - mae: 3146.8953 - val_loss: 2991.8645 - val_mae: 2991.8645\n",
      "Epoch 99/100\n",
      "34/34 [==============================] - 0s 2ms/step - loss: 3139.7712 - mae: 3139.7712 - val_loss: 2987.4468 - val_mae: 2987.4468\n",
      "Epoch 100/100\n",
      "34/34 [==============================] - 0s 2ms/step - loss: 3133.5261 - mae: 3133.5261 - val_loss: 2979.8333 - val_mae: 2979.8333\n"
     ]
    }
   ],
   "source": [
    "# train the model\n",
    "history = ann.fit(\n",
    "    X_train,\n",
    "    y_train,\n",
    "    validation_data=[X_test, y_test],\n",
    "    epochs=100,\n",
    "    callbacks=[early_stoping_callback]\n",
    ")"
   ]
  },
  {
   "cell_type": "code",
   "execution_count": 202,
   "metadata": {},
   "outputs": [
    {
     "name": "stderr",
     "output_type": "stream",
     "text": [
      "d:\\machine-learning\\deep-learning-project\\Medical-Cost-ANN-Regression-Problem\\venv\\Lib\\site-packages\\keras\\src\\engine\\training.py:3103: UserWarning: You are saving your model as an HDF5 file via `model.save()`. This file format is considered legacy. We recommend using instead the native Keras format, e.g. `model.save('my_model.keras')`.\n",
      "  saving_api.save_model(\n"
     ]
    }
   ],
   "source": [
    "# save model\n",
    "ann.save('model.h5')"
   ]
  },
  {
   "cell_type": "code",
   "execution_count": 203,
   "metadata": {},
   "outputs": [
    {
     "name": "stdout",
     "output_type": "stream",
     "text": [
      "9/9 [==============================] - 0s 1ms/step\n"
     ]
    }
   ],
   "source": [
    "y_pred = ann.predict(X_test)"
   ]
  },
  {
   "cell_type": "code",
   "execution_count": 204,
   "metadata": {},
   "outputs": [
    {
     "data": {
      "text/plain": [
       "0.7686269312706692"
      ]
     },
     "execution_count": 204,
     "metadata": {},
     "output_type": "execute_result"
    }
   ],
   "source": [
    "from sklearn.metrics import r2_score\n",
    "score = r2_score(y_test, y_pred)\n",
    "score"
   ]
  },
  {
   "cell_type": "code",
   "execution_count": 205,
   "metadata": {},
   "outputs": [
    {
     "name": "stdout",
     "output_type": "stream",
     "text": [
      "dict_keys(['loss', 'mae', 'val_loss', 'val_mae'])\n"
     ]
    },
    {
     "data": {
      "image/png": "[encoded data removed]",
      "text/plain": [
       "<Figure size 640x480 with 1 Axes>"
      ]
     },
     "metadata": {},
     "output_type": "display_data"
    }
   ],
   "source": [
    "# lets plot for model loss\n",
    "print(history.history.keys())\n",
    "plt.plot(history.history['loss'])\n",
    "plt.plot(history.history['val_loss'])\n",
    "plt.grid()\n",
    "plt.ylabel(\"Loss\")\n",
    "plt.xlabel(\"Epoch\")\n",
    "plt.legend(['train', 'test'], loc='best')\n",
    "plt.show()"
   ]
  },
  {
   "cell_type": "markdown",
   "metadata": {},
   "source": [
    "### Prediction for new data"
   ]
  },
  {
   "cell_type": "code",
   "execution_count": 206,
   "metadata": {},
   "outputs": [
    {
     "data": {
      "text/html": [
       "<div>\n",
       "<style scoped>\n",
       "    .dataframe tbody tr th:only-of-type {\n",
       "        vertical-align: middle;\n",
       "    }\n",
       "\n",
       "    .dataframe tbody tr th {\n",
       "        vertical-align: top;\n",
       "    }\n",
       "\n",
       "    .dataframe thead th {\n",
       "        text-align: right;\n",
       "    }\n",
       "</style>\n",
       "<table border=\"1\" class=\"dataframe\">\n",
       "  <thead>\n",
       "    <tr style=\"text-align: right;\">\n",
       "      <th></th>\n",
       "      <th>age</th>\n",
       "      <th>sex</th>\n",
       "      <th>bmi</th>\n",
       "      <th>children</th>\n",
       "      <th>smoker</th>\n",
       "      <th>region</th>\n",
       "    </tr>\n",
       "  </thead>\n",
       "  <tbody>\n",
       "    <tr>\n",
       "      <th>0</th>\n",
       "      <td>20</td>\n",
       "      <td>female</td>\n",
       "      <td>33.55</td>\n",
       "      <td>2</td>\n",
       "      <td>yes</td>\n",
       "      <td>southwest</td>\n",
       "    </tr>\n",
       "  </tbody>\n",
       "</table>\n",
       "</div>"
      ],
      "text/plain": [
       "   age     sex    bmi  children smoker     region\n",
       "0   20  female  33.55         2    yes  southwest"
      ]
     },
     "execution_count": 206,
     "metadata": {},
     "output_type": "execute_result"
    }
   ],
   "source": [
    "input_data = {\n",
    "    \"age\": 20,\n",
    "    \"sex\": \"female\",\n",
    "    \"bmi\": 33.55,\n",
    "    \"children\": 2,\n",
    "    \"smoker\": \"yes\",\n",
    "    \"region\": \"southwest\"\n",
    "}\n",
    "\n",
    "input_df = pd.DataFrame([input_data])\n",
    "\n",
    "input_df"
   ]
  },
  {
   "cell_type": "code",
   "execution_count": 207,
   "metadata": {},
   "outputs": [],
   "source": [
    "# load sex encoding file\n",
    "with open(\"sex_label_encoder.pkl\", 'rb') as file:\n",
    "    sex_label_encoder = pickle.load(file)\n",
    "\n",
    "# load smoker label encoder file\n",
    "with open(\"smoker_label_encoding.pkl\", 'rb') as file:\n",
    "    smoker_label_encoding = pickle.load(file)\n",
    "\n",
    "# load region one hot encoding file\n",
    "with open(\"region_one_hot_encoding.pkl\", 'rb') as file:\n",
    "    region_one_hot_encoding = pickle.load(file)\n",
    "\n",
    "# load standaredScaler file\n",
    "with open(\"scaler.pkl\", 'rb') as file:\n",
    "    scaler = pickle.load(file)\n",
    "\n",
    "# load model file\n",
    "ann = tf.keras.models.load_model(\"model.h5\")\n"
   ]
  },
  {
   "cell_type": "code",
   "execution_count": 208,
   "metadata": {},
   "outputs": [
    {
     "data": {
      "text/plain": [
       "array(['region_northeast', 'region_northwest', 'region_southeast',\n",
       "       'region_southwest'], dtype=object)"
      ]
     },
     "execution_count": 208,
     "metadata": {},
     "output_type": "execute_result"
    }
   ],
   "source": [
    "reg_column = region_one_hot_encoding.get_feature_names_out(['region'])\n",
    "reg_column"
   ]
  },
  {
   "cell_type": "code",
   "execution_count": 209,
   "metadata": {},
   "outputs": [
    {
     "data": {
      "text/html": [
       "<div>\n",
       "<style scoped>\n",
       "    .dataframe tbody tr th:only-of-type {\n",
       "        vertical-align: middle;\n",
       "    }\n",
       "\n",
       "    .dataframe tbody tr th {\n",
       "        vertical-align: top;\n",
       "    }\n",
       "\n",
       "    .dataframe thead th {\n",
       "        text-align: right;\n",
       "    }\n",
       "</style>\n",
       "<table border=\"1\" class=\"dataframe\">\n",
       "  <thead>\n",
       "    <tr style=\"text-align: right;\">\n",
       "      <th></th>\n",
       "      <th>region_northeast</th>\n",
       "      <th>region_northwest</th>\n",
       "      <th>region_southeast</th>\n",
       "      <th>region_southwest</th>\n",
       "    </tr>\n",
       "  </thead>\n",
       "  <tbody>\n",
       "    <tr>\n",
       "      <th>0</th>\n",
       "      <td>0.0</td>\n",
       "      <td>0.0</td>\n",
       "      <td>0.0</td>\n",
       "      <td>1.0</td>\n",
       "    </tr>\n",
       "  </tbody>\n",
       "</table>\n",
       "</div>"
      ],
      "text/plain": [
       "   region_northeast  region_northwest  region_southeast  region_southwest\n",
       "0               0.0               0.0               0.0               1.0"
      ]
     },
     "execution_count": 209,
     "metadata": {},
     "output_type": "execute_result"
    }
   ],
   "source": [
    "# apply one hot encoding\n",
    "rego_encoder = region_one_hot_encoding.transform(input_df[['region']]).toarray()\n",
    "rego_encoder_df = pd.DataFrame(rego_encoder, columns=reg_column)\n",
    "rego_encoder_df\n"
   ]
  },
  {
   "cell_type": "code",
   "execution_count": 210,
   "metadata": {},
   "outputs": [],
   "source": [
    "# drop the region column\n",
    "input_df.drop(\"region\", axis=1, inplace=True)"
   ]
  },
  {
   "cell_type": "code",
   "execution_count": 211,
   "metadata": {},
   "outputs": [],
   "source": [
    "input_df['sex'] = sex_label_encoder.transform(input_df['sex'])\n",
    "input_df['smoker'] = smoker_label_encoding.transform(input_df['smoker'])"
   ]
  },
  {
   "cell_type": "code",
   "execution_count": 212,
   "metadata": {},
   "outputs": [],
   "source": [
    "dataframe = pd.concat([input_df, rego_encoder_df], axis=1)"
   ]
  },
  {
   "cell_type": "code",
   "execution_count": 213,
   "metadata": {},
   "outputs": [
    {
     "data": {
      "text/html": [
       "<div>\n",
       "<style scoped>\n",
       "    .dataframe tbody tr th:only-of-type {\n",
       "        vertical-align: middle;\n",
       "    }\n",
       "\n",
       "    .dataframe tbody tr th {\n",
       "        vertical-align: top;\n",
       "    }\n",
       "\n",
       "    .dataframe thead th {\n",
       "        text-align: right;\n",
       "    }\n",
       "</style>\n",
       "<table border=\"1\" class=\"dataframe\">\n",
       "  <thead>\n",
       "    <tr style=\"text-align: right;\">\n",
       "      <th></th>\n",
       "      <th>age</th>\n",
       "      <th>sex</th>\n",
       "      <th>bmi</th>\n",
       "      <th>children</th>\n",
       "      <th>smoker</th>\n",
       "      <th>region_northeast</th>\n",
       "      <th>region_northwest</th>\n",
       "      <th>region_southeast</th>\n",
       "      <th>region_southwest</th>\n",
       "    </tr>\n",
       "  </thead>\n",
       "  <tbody>\n",
       "    <tr>\n",
       "      <th>0</th>\n",
       "      <td>20</td>\n",
       "      <td>0</td>\n",
       "      <td>33.55</td>\n",
       "      <td>2</td>\n",
       "      <td>1</td>\n",
       "      <td>0.0</td>\n",
       "      <td>0.0</td>\n",
       "      <td>0.0</td>\n",
       "      <td>1.0</td>\n",
       "    </tr>\n",
       "  </tbody>\n",
       "</table>\n",
       "</div>"
      ],
      "text/plain": [
       "   age  sex    bmi  ...  region_northwest  region_southeast  region_southwest\n",
       "0   20    0  33.55  ...               0.0               0.0               1.0\n",
       "\n",
       "[1 rows x 9 columns]"
      ]
     },
     "execution_count": 213,
     "metadata": {},
     "output_type": "execute_result"
    }
   ],
   "source": [
    "dataframe"
   ]
  },
  {
   "cell_type": "code",
   "execution_count": 214,
   "metadata": {},
   "outputs": [],
   "source": [
    "input_scaled = scaler.transform(dataframe)"
   ]
  },
  {
   "cell_type": "code",
   "execution_count": 215,
   "metadata": {},
   "outputs": [
    {
     "data": {
      "text/plain": [
       "array([[-1.37602074, -1.0246016 ,  0.49492138,  0.73433626,  1.96561348,\n",
       "        -0.57663083, -0.56079971, -0.59966106,  1.74729228]])"
      ]
     },
     "execution_count": 215,
     "metadata": {},
     "output_type": "execute_result"
    }
   ],
   "source": [
    "input_scaled"
   ]
  },
  {
   "cell_type": "code",
   "execution_count": 216,
   "metadata": {},
   "outputs": [
    {
     "name": "stdout",
     "output_type": "stream",
     "text": [
      "1/1 [==============================] - 0s 56ms/step\n"
     ]
    },
    {
     "data": {
      "text/plain": [
       "24611.035"
      ]
     },
     "execution_count": 216,
     "metadata": {},
     "output_type": "execute_result"
    }
   ],
   "source": [
    "prediction = ann.predict(input_scaled)\n",
    "new_prediction = prediction[0][0] \n",
    "new_prediction "
   ]
  }
 ],
 "metadata": {
  "kernelspec": {
   "display_name": "Python 3",
   "language": "python",
   "name": "python3"
  },
  "language_info": {
   "codemirror_mode": {
    "name": "ipython",
    "version": 3
   },
   "file_extension": ".py",
   "mimetype": "text/x-python",
   "name": "python",
   "nbconvert_exporter": "python",
   "pygments_lexer": "ipython3",
   "version": "3.11.11"
  }
 },
 "nbformat": 4,
 "nbformat_minor": 2
}
