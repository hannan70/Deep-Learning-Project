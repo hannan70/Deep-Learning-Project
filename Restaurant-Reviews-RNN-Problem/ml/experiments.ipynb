{
 "cells": [
  {
   "cell_type": "code",
   "execution_count": 1,
   "metadata": {},
   "outputs": [
    {
     "name": "stdout",
     "output_type": "stream",
     "text": [
      "WARNING:tensorflow:From d:\\machine-learning\\deep-learning-project\\Restaurant-Reviews-RNN-Problem\\venv\\Lib\\site-packages\\keras\\src\\losses.py:2976: The name tf.losses.sparse_softmax_cross_entropy is deprecated. Please use tf.compat.v1.losses.sparse_softmax_cross_entropy instead.\n",
      "\n"
     ]
    }
   ],
   "source": [
    "# import all libraries\n",
    "import pandas as pd\n",
    "import numpy as np\n",
    "import matplotlib.pyplot as plt\n",
    "import seaborn as sns\n",
    "import pickle\n",
    "import re\n",
    "import nltk\n",
    "from nltk.tokenize import word_tokenize\n",
    "\n",
    "import tensorflow as tf\n",
    "from tensorflow.keras.layers import Dense, Embedding, SimpleRNN\n",
    "from tensorflow.keras.models import Sequential\n",
    "from tensorflow.keras.callbacks import EarlyStopping\n",
    "from tensorflow.keras.preprocessing.text import one_hot\n",
    "from tensorflow.keras.utils import pad_sequences\n",
    "from sklearn.model_selection import train_test_split"
   ]
  },
  {
   "cell_type": "markdown",
   "metadata": {},
   "source": [
    "### I have going to cover following step\n",
    "1. Clean Then text\n",
    "2. Apply One hot encoding\n",
    "3. Apply pad sequence\n",
    "4. Build RNN model\n",
    "5. compail model\n",
    "6. Train the RNN model"
   ]
  },
  {
   "cell_type": "code",
   "execution_count": 2,
   "metadata": {},
   "outputs": [
    {
     "data": {
      "text/html": [
       "<div>\n",
       "<style scoped>\n",
       "    .dataframe tbody tr th:only-of-type {\n",
       "        vertical-align: middle;\n",
       "    }\n",
       "\n",
       "    .dataframe tbody tr th {\n",
       "        vertical-align: top;\n",
       "    }\n",
       "\n",
       "    .dataframe thead th {\n",
       "        text-align: right;\n",
       "    }\n",
       "</style>\n",
       "<table border=\"1\" class=\"dataframe\">\n",
       "  <thead>\n",
       "    <tr style=\"text-align: right;\">\n",
       "      <th></th>\n",
       "      <th>Review</th>\n",
       "      <th>Rating</th>\n",
       "    </tr>\n",
       "  </thead>\n",
       "  <tbody>\n",
       "    <tr>\n",
       "      <th>0</th>\n",
       "      <td>The ambience was good, food was quite good . h...</td>\n",
       "      <td>5</td>\n",
       "    </tr>\n",
       "    <tr>\n",
       "      <th>1</th>\n",
       "      <td>Ambience is too good for a pleasant evening. S...</td>\n",
       "      <td>5</td>\n",
       "    </tr>\n",
       "    <tr>\n",
       "      <th>2</th>\n",
       "      <td>A must try.. great food great ambience. Thnx f...</td>\n",
       "      <td>5</td>\n",
       "    </tr>\n",
       "    <tr>\n",
       "      <th>3</th>\n",
       "      <td>Soumen das and Arun was a great guy. Only beca...</td>\n",
       "      <td>5</td>\n",
       "    </tr>\n",
       "    <tr>\n",
       "      <th>4</th>\n",
       "      <td>Food is good.we ordered Kodi drumsticks and ba...</td>\n",
       "      <td>5</td>\n",
       "    </tr>\n",
       "    <tr>\n",
       "      <th>...</th>\n",
       "      <td>...</td>\n",
       "      <td>...</td>\n",
       "    </tr>\n",
       "    <tr>\n",
       "      <th>9995</th>\n",
       "      <td>Madhumathi Mahajan Well to start with nice cou...</td>\n",
       "      <td>3</td>\n",
       "    </tr>\n",
       "    <tr>\n",
       "      <th>9996</th>\n",
       "      <td>This place has never disappointed us.. The foo...</td>\n",
       "      <td>4.5</td>\n",
       "    </tr>\n",
       "    <tr>\n",
       "      <th>9997</th>\n",
       "      <td>Bad rating is mainly because of \"Chicken Bone ...</td>\n",
       "      <td>1.5</td>\n",
       "    </tr>\n",
       "    <tr>\n",
       "      <th>9998</th>\n",
       "      <td>I personally love and prefer Chinese Food. Had...</td>\n",
       "      <td>4</td>\n",
       "    </tr>\n",
       "    <tr>\n",
       "      <th>9999</th>\n",
       "      <td>Checked in here to try some delicious chinese ...</td>\n",
       "      <td>3.5</td>\n",
       "    </tr>\n",
       "  </tbody>\n",
       "</table>\n",
       "<p>10000 rows × 2 columns</p>\n",
       "</div>"
      ],
      "text/plain": [
       "                                                 Review Rating\n",
       "0     The ambience was good, food was quite good . h...      5\n",
       "1     Ambience is too good for a pleasant evening. S...      5\n",
       "2     A must try.. great food great ambience. Thnx f...      5\n",
       "3     Soumen das and Arun was a great guy. Only beca...      5\n",
       "4     Food is good.we ordered Kodi drumsticks and ba...      5\n",
       "...                                                 ...    ...\n",
       "9995  Madhumathi Mahajan Well to start with nice cou...      3\n",
       "9996  This place has never disappointed us.. The foo...    4.5\n",
       "9997  Bad rating is mainly because of \"Chicken Bone ...    1.5\n",
       "9998  I personally love and prefer Chinese Food. Had...      4\n",
       "9999  Checked in here to try some delicious chinese ...    3.5\n",
       "\n",
       "[10000 rows x 2 columns]"
      ]
     },
     "execution_count": 2,
     "metadata": {},
     "output_type": "execute_result"
    }
   ],
   "source": [
    "# load dataset\n",
    "df = pd.read_csv(\"../../../dataset/Restaurant reviews.csv\")\n",
    "df"
   ]
  },
  {
   "cell_type": "code",
   "execution_count": 3,
   "metadata": {},
   "outputs": [
    {
     "data": {
      "text/plain": [
       "Review    45\n",
       "Rating    38\n",
       "dtype: int64"
      ]
     },
     "execution_count": 3,
     "metadata": {},
     "output_type": "execute_result"
    }
   ],
   "source": [
    "# chek null value\n",
    "df.isnull().sum()"
   ]
  },
  {
   "cell_type": "code",
   "execution_count": 4,
   "metadata": {},
   "outputs": [
    {
     "data": {
      "text/plain": [
       "(10000, 2)"
      ]
     },
     "execution_count": 4,
     "metadata": {},
     "output_type": "execute_result"
    }
   ],
   "source": [
    "df.shape"
   ]
  },
  {
   "cell_type": "code",
   "execution_count": 5,
   "metadata": {},
   "outputs": [],
   "source": [
    "df.dropna(inplace=True)"
   ]
  },
  {
   "cell_type": "code",
   "execution_count": 6,
   "metadata": {},
   "outputs": [
    {
     "data": {
      "text/plain": [
       "(9955, 2)"
      ]
     },
     "execution_count": 6,
     "metadata": {},
     "output_type": "execute_result"
    }
   ],
   "source": [
    "df.shape"
   ]
  },
  {
   "cell_type": "code",
   "execution_count": 7,
   "metadata": {},
   "outputs": [
    {
     "data": {
      "text/plain": [
       "Review    0\n",
       "Rating    0\n",
       "dtype: int64"
      ]
     },
     "execution_count": 7,
     "metadata": {},
     "output_type": "execute_result"
    }
   ],
   "source": [
    "df.isnull().sum()"
   ]
  },
  {
   "cell_type": "code",
   "execution_count": 8,
   "metadata": {},
   "outputs": [
    {
     "data": {
      "text/plain": [
       "Rating\n",
       "5       3826\n",
       "4       2373\n",
       "1       1735\n",
       "3       1192\n",
       "2        684\n",
       "4.5       69\n",
       "3.5       47\n",
       "2.5       19\n",
       "1.5        9\n",
       "Like       1\n",
       "Name: count, dtype: int64"
      ]
     },
     "execution_count": 8,
     "metadata": {},
     "output_type": "execute_result"
    }
   ],
   "source": [
    "df['Rating'].value_counts()"
   ]
  },
  {
   "cell_type": "code",
   "execution_count": 9,
   "metadata": {},
   "outputs": [
    {
     "data": {
      "text/plain": [
       "Index([7601], dtype='int64')"
      ]
     },
     "execution_count": 9,
     "metadata": {},
     "output_type": "execute_result"
    }
   ],
   "source": [
    "# remove Like\n",
    "df[df['Rating'] == \"Like\"].index"
   ]
  },
  {
   "cell_type": "code",
   "execution_count": 10,
   "metadata": {},
   "outputs": [],
   "source": [
    "df.drop(index=df[df['Rating'] == \"Like\"].index, inplace=True)"
   ]
  },
  {
   "cell_type": "code",
   "execution_count": 11,
   "metadata": {},
   "outputs": [
    {
     "data": {
      "text/html": [
       "<div>\n",
       "<style scoped>\n",
       "    .dataframe tbody tr th:only-of-type {\n",
       "        vertical-align: middle;\n",
       "    }\n",
       "\n",
       "    .dataframe tbody tr th {\n",
       "        vertical-align: top;\n",
       "    }\n",
       "\n",
       "    .dataframe thead th {\n",
       "        text-align: right;\n",
       "    }\n",
       "</style>\n",
       "<table border=\"1\" class=\"dataframe\">\n",
       "  <thead>\n",
       "    <tr style=\"text-align: right;\">\n",
       "      <th></th>\n",
       "      <th>Review</th>\n",
       "      <th>Rating</th>\n",
       "    </tr>\n",
       "  </thead>\n",
       "  <tbody>\n",
       "    <tr>\n",
       "      <th>0</th>\n",
       "      <td>The ambience was good, food was quite good . h...</td>\n",
       "      <td>5</td>\n",
       "    </tr>\n",
       "    <tr>\n",
       "      <th>1</th>\n",
       "      <td>Ambience is too good for a pleasant evening. S...</td>\n",
       "      <td>5</td>\n",
       "    </tr>\n",
       "    <tr>\n",
       "      <th>2</th>\n",
       "      <td>A must try.. great food great ambience. Thnx f...</td>\n",
       "      <td>5</td>\n",
       "    </tr>\n",
       "    <tr>\n",
       "      <th>3</th>\n",
       "      <td>Soumen das and Arun was a great guy. Only beca...</td>\n",
       "      <td>5</td>\n",
       "    </tr>\n",
       "    <tr>\n",
       "      <th>4</th>\n",
       "      <td>Food is good.we ordered Kodi drumsticks and ba...</td>\n",
       "      <td>5</td>\n",
       "    </tr>\n",
       "    <tr>\n",
       "      <th>...</th>\n",
       "      <td>...</td>\n",
       "      <td>...</td>\n",
       "    </tr>\n",
       "    <tr>\n",
       "      <th>9995</th>\n",
       "      <td>Madhumathi Mahajan Well to start with nice cou...</td>\n",
       "      <td>3</td>\n",
       "    </tr>\n",
       "    <tr>\n",
       "      <th>9996</th>\n",
       "      <td>This place has never disappointed us.. The foo...</td>\n",
       "      <td>4.5</td>\n",
       "    </tr>\n",
       "    <tr>\n",
       "      <th>9997</th>\n",
       "      <td>Bad rating is mainly because of \"Chicken Bone ...</td>\n",
       "      <td>1.5</td>\n",
       "    </tr>\n",
       "    <tr>\n",
       "      <th>9998</th>\n",
       "      <td>I personally love and prefer Chinese Food. Had...</td>\n",
       "      <td>4</td>\n",
       "    </tr>\n",
       "    <tr>\n",
       "      <th>9999</th>\n",
       "      <td>Checked in here to try some delicious chinese ...</td>\n",
       "      <td>3.5</td>\n",
       "    </tr>\n",
       "  </tbody>\n",
       "</table>\n",
       "<p>9954 rows × 2 columns</p>\n",
       "</div>"
      ],
      "text/plain": [
       "                                                 Review Rating\n",
       "0     The ambience was good, food was quite good . h...      5\n",
       "1     Ambience is too good for a pleasant evening. S...      5\n",
       "2     A must try.. great food great ambience. Thnx f...      5\n",
       "3     Soumen das and Arun was a great guy. Only beca...      5\n",
       "4     Food is good.we ordered Kodi drumsticks and ba...      5\n",
       "...                                                 ...    ...\n",
       "9995  Madhumathi Mahajan Well to start with nice cou...      3\n",
       "9996  This place has never disappointed us.. The foo...    4.5\n",
       "9997  Bad rating is mainly because of \"Chicken Bone ...    1.5\n",
       "9998  I personally love and prefer Chinese Food. Had...      4\n",
       "9999  Checked in here to try some delicious chinese ...    3.5\n",
       "\n",
       "[9954 rows x 2 columns]"
      ]
     },
     "execution_count": 11,
     "metadata": {},
     "output_type": "execute_result"
    }
   ],
   "source": [
    "df"
   ]
  },
  {
   "cell_type": "code",
   "execution_count": 12,
   "metadata": {},
   "outputs": [],
   "source": [
    "# all rating into flot\n",
    "df['Rating'] = df['Rating'].apply(float)"
   ]
  },
  {
   "cell_type": "code",
   "execution_count": 13,
   "metadata": {},
   "outputs": [],
   "source": [
    "# Create target variable\n",
    "# 1 = Positive, 0 = Negative Review\n",
    "df['Target'] = df['Rating'].apply(lambda x: 1 if x > 3.0 else 0)"
   ]
  },
  {
   "cell_type": "code",
   "execution_count": 14,
   "metadata": {},
   "outputs": [
    {
     "data": {
      "text/html": [
       "<div>\n",
       "<style scoped>\n",
       "    .dataframe tbody tr th:only-of-type {\n",
       "        vertical-align: middle;\n",
       "    }\n",
       "\n",
       "    .dataframe tbody tr th {\n",
       "        vertical-align: top;\n",
       "    }\n",
       "\n",
       "    .dataframe thead th {\n",
       "        text-align: right;\n",
       "    }\n",
       "</style>\n",
       "<table border=\"1\" class=\"dataframe\">\n",
       "  <thead>\n",
       "    <tr style=\"text-align: right;\">\n",
       "      <th></th>\n",
       "      <th>Review</th>\n",
       "      <th>Rating</th>\n",
       "      <th>Target</th>\n",
       "    </tr>\n",
       "  </thead>\n",
       "  <tbody>\n",
       "    <tr>\n",
       "      <th>0</th>\n",
       "      <td>The ambience was good, food was quite good . h...</td>\n",
       "      <td>5.0</td>\n",
       "      <td>1</td>\n",
       "    </tr>\n",
       "    <tr>\n",
       "      <th>1</th>\n",
       "      <td>Ambience is too good for a pleasant evening. S...</td>\n",
       "      <td>5.0</td>\n",
       "      <td>1</td>\n",
       "    </tr>\n",
       "    <tr>\n",
       "      <th>2</th>\n",
       "      <td>A must try.. great food great ambience. Thnx f...</td>\n",
       "      <td>5.0</td>\n",
       "      <td>1</td>\n",
       "    </tr>\n",
       "    <tr>\n",
       "      <th>3</th>\n",
       "      <td>Soumen das and Arun was a great guy. Only beca...</td>\n",
       "      <td>5.0</td>\n",
       "      <td>1</td>\n",
       "    </tr>\n",
       "    <tr>\n",
       "      <th>4</th>\n",
       "      <td>Food is good.we ordered Kodi drumsticks and ba...</td>\n",
       "      <td>5.0</td>\n",
       "      <td>1</td>\n",
       "    </tr>\n",
       "  </tbody>\n",
       "</table>\n",
       "</div>"
      ],
      "text/plain": [
       "                                              Review  Rating  Target\n",
       "0  The ambience was good, food was quite good . h...     5.0       1\n",
       "1  Ambience is too good for a pleasant evening. S...     5.0       1\n",
       "2  A must try.. great food great ambience. Thnx f...     5.0       1\n",
       "3  Soumen das and Arun was a great guy. Only beca...     5.0       1\n",
       "4  Food is good.we ordered Kodi drumsticks and ba...     5.0       1"
      ]
     },
     "execution_count": 14,
     "metadata": {},
     "output_type": "execute_result"
    }
   ],
   "source": [
    "df.head()"
   ]
  },
  {
   "cell_type": "code",
   "execution_count": 15,
   "metadata": {},
   "outputs": [],
   "source": [
    "df.drop(columns=['Rating'], inplace=True)"
   ]
  },
  {
   "cell_type": "code",
   "execution_count": 16,
   "metadata": {},
   "outputs": [
    {
     "data": {
      "text/html": [
       "<div>\n",
       "<style scoped>\n",
       "    .dataframe tbody tr th:only-of-type {\n",
       "        vertical-align: middle;\n",
       "    }\n",
       "\n",
       "    .dataframe tbody tr th {\n",
       "        vertical-align: top;\n",
       "    }\n",
       "\n",
       "    .dataframe thead th {\n",
       "        text-align: right;\n",
       "    }\n",
       "</style>\n",
       "<table border=\"1\" class=\"dataframe\">\n",
       "  <thead>\n",
       "    <tr style=\"text-align: right;\">\n",
       "      <th></th>\n",
       "      <th>Review</th>\n",
       "      <th>Target</th>\n",
       "    </tr>\n",
       "  </thead>\n",
       "  <tbody>\n",
       "    <tr>\n",
       "      <th>0</th>\n",
       "      <td>The ambience was good, food was quite good . h...</td>\n",
       "      <td>1</td>\n",
       "    </tr>\n",
       "    <tr>\n",
       "      <th>1</th>\n",
       "      <td>Ambience is too good for a pleasant evening. S...</td>\n",
       "      <td>1</td>\n",
       "    </tr>\n",
       "    <tr>\n",
       "      <th>2</th>\n",
       "      <td>A must try.. great food great ambience. Thnx f...</td>\n",
       "      <td>1</td>\n",
       "    </tr>\n",
       "    <tr>\n",
       "      <th>3</th>\n",
       "      <td>Soumen das and Arun was a great guy. Only beca...</td>\n",
       "      <td>1</td>\n",
       "    </tr>\n",
       "    <tr>\n",
       "      <th>4</th>\n",
       "      <td>Food is good.we ordered Kodi drumsticks and ba...</td>\n",
       "      <td>1</td>\n",
       "    </tr>\n",
       "  </tbody>\n",
       "</table>\n",
       "</div>"
      ],
      "text/plain": [
       "                                              Review  Target\n",
       "0  The ambience was good, food was quite good . h...       1\n",
       "1  Ambience is too good for a pleasant evening. S...       1\n",
       "2  A must try.. great food great ambience. Thnx f...       1\n",
       "3  Soumen das and Arun was a great guy. Only beca...       1\n",
       "4  Food is good.we ordered Kodi drumsticks and ba...       1"
      ]
     },
     "execution_count": 16,
     "metadata": {},
     "output_type": "execute_result"
    }
   ],
   "source": [
    "df.head()"
   ]
  },
  {
   "cell_type": "code",
   "execution_count": 17,
   "metadata": {},
   "outputs": [],
   "source": [
    "\n",
    "\n",
    "# Clean the text\n",
    "corpus = []\n",
    "for i in range(0, len(df)):\n",
    "    reviews = re.sub('[^a-zA-Z]', ' ', df['Review'].iloc[i])\n",
    "    reviews = reviews.lower()\n",
    "    reviews = word_tokenize(reviews, language=\"english\")\n",
    "    reviews = \" \".join(reviews)\n",
    "    corpus.append(reviews)\n"
   ]
  },
  {
   "cell_type": "code",
   "execution_count": 23,
   "metadata": {},
   "outputs": [],
   "source": [
    "# define vocabulary size\n",
    "voc_size = 10000\n",
    "one_hot_repre = [one_hot(word, voc_size) for word in corpus]"
   ]
  },
  {
   "cell_type": "code",
   "execution_count": 24,
   "metadata": {},
   "outputs": [],
   "source": [
    "# Create X and y\n",
    "X = one_hot_repre\n",
    "y = df['Target']\n",
    "\n",
    "# Split dataset into train and test set\n",
    "X_train, X_test, y_train, y_test = train_test_split(X, y, test_size=0.2, random_state=42)"
   ]
  },
  {
   "cell_type": "code",
   "execution_count": 25,
   "metadata": {},
   "outputs": [
    {
     "data": {
      "text/plain": [
       "7963"
      ]
     },
     "execution_count": 25,
     "metadata": {},
     "output_type": "execute_result"
    }
   ],
   "source": [
    "len(X_train)"
   ]
  },
  {
   "cell_type": "code",
   "execution_count": 26,
   "metadata": {},
   "outputs": [
    {
     "data": {
      "text/plain": [
       "array([[   0,    0,    0, ..., 5329,  819, 4226],\n",
       "       [   0,    0,    0, ..., 1919, 4669, 4226],\n",
       "       [   0,    0,    0, ...,  412, 6682, 1224],\n",
       "       ...,\n",
       "       [   0,    0,    0, ..., 5280, 6636, 5459],\n",
       "       [   0,    0,    0, ...,  819, 4515, 4620],\n",
       "       [   0,    0,    0, ..., 5028,  772, 4189]])"
      ]
     },
     "execution_count": 26,
     "metadata": {},
     "output_type": "execute_result"
    }
   ],
   "source": [
    "# apply pad sequence\n",
    "max_length=500\n",
    "X_train = pad_sequences(X_train, maxlen=max_length)\n",
    "X_test = pad_sequences(X_test, maxlen=max_length)\n",
    "X_train"
   ]
  },
  {
   "cell_type": "code",
   "execution_count": 27,
   "metadata": {},
   "outputs": [
    {
     "data": {
      "text/plain": [
       "array([   0,    0,    0,    0,    0,    0,    0,    0,    0,    0,    0,\n",
       "          0,    0,    0,    0,    0,    0,    0,    0,    0,    0,    0,\n",
       "          0,    0,    0,    0,    0,    0,    0,    0,    0,    0,    0,\n",
       "          0,    0,    0,    0,    0,    0,    0,    0,    0,    0,    0,\n",
       "          0,    0,    0,    0,    0,    0,    0,    0,    0,    0,    0,\n",
       "          0,    0,    0,    0,    0,    0,    0,    0,    0,    0,    0,\n",
       "          0,    0,    0,    0,    0,    0,    0,    0,    0,    0,    0,\n",
       "          0,    0,    0,    0,    0,    0,    0,    0,    0,    0,    0,\n",
       "          0,    0,    0,    0,    0,    0,    0,    0,    0,    0,    0,\n",
       "          0,    0,    0,    0,    0,    0,    0,    0,    0,    0,    0,\n",
       "          0,    0,    0,    0,    0,    0,    0,    0,    0,    0,    0,\n",
       "          0,    0,    0,    0,    0,    0,    0,    0,    0,    0,    0,\n",
       "          0,    0,    0,    0,    0,    0,    0,    0,    0,    0,    0,\n",
       "          0,    0,    0,    0,    0,    0,    0,    0,    0,    0,    0,\n",
       "          0,    0,    0,    0,    0,    0,    0,    0,    0,    0,    0,\n",
       "          0,    0,    0,    0,    0,    0,    0,    0,    0,    0,    0,\n",
       "          0,    0,    0,    0,    0,    0,    0,    0,    0,    0,    0,\n",
       "          0,    0,    0,    0,    0,    0,    0,    0,    0,    0,    0,\n",
       "          0,    0,    0,    0,    0,    0,    0,    0,    0,    0,    0,\n",
       "          0,    0,    0,    0,    0,    0,    0,    0,    0,    0,    0,\n",
       "          0,    0,    0,    0,    0,    0,    0,    0,    0,    0,    0,\n",
       "          0,    0,    0,    0,    0,    0,    0,    0,    0,    0,    0,\n",
       "          0,    0,    0,    0,    0,    0,    0,    0,    0,    0,    0,\n",
       "          0,    0,    0,    0,    0,    0,    0,    0,    0,    0,    0,\n",
       "          0,    0,    0,    0,    0,    0,    0,    0,    0,    0,    0,\n",
       "          0,    0,    0,    0,    0,    0,    0,    0,    0,    0,    0,\n",
       "          0,    0,    0,    0,    0,    0,    0,    0,    0,    0,    0,\n",
       "          0,    0,    0,    0,    0,    0,    0,    0,    0,    0,    0,\n",
       "          0,    0,    0,    0,    0,    0,    0,    0,    0,    0,    0,\n",
       "          0,    0,    0,    0,    0,    0,    0,    0,    0,    0,    0,\n",
       "          0,    0,    0,    0,    0,    0,    0,    0,    0,    0,    0,\n",
       "          0,    0,    0,    0,    0,    0,    0,    0,    0,    0,    0,\n",
       "          0,    0,    0,    0,    0,    0,    0,    0,    0,    0,    0,\n",
       "          0,    0,    0,    0,    0,    0,    0,    0,    0,    0,    0,\n",
       "          0,    0,    0,    0,    0,    0,    0,    0,    0,    0,    0,\n",
       "          0,    0,    0,    0,    0,    0,    0,    0,    0,    0,    0,\n",
       "          0,    0,    0,    0,    0,    0,    0,    0,    0,    0,    0,\n",
       "          0,    0,    0,    0,    0,    0,    0,    0,    0,    0,    0,\n",
       "          0,    0,    0,    0,    0,    0,    0,    0,    0,    0,    0,\n",
       "          0,    0,    0,    0,    0,    0,    0,    0,    0,    0,    0,\n",
       "          0,    0,    0,    0,    0,    0,    0,    0,    0,    0,    0,\n",
       "          0,    0,    0,    0,    0,    0,    0,    0,    0,    0,    0,\n",
       "          0,    0,    0,    0,    0,    0,    0,    0,    0,    0,    0,\n",
       "          0,    0,    0, 6854, 8583, 4108, 4374, 9286, 5407, 7494,  965,\n",
       "       4669, 1447, 5329,  819, 4226, 3820, 1580, 3149, 7405, 5020,  819,\n",
       "       6424, 5801, 5329,  819, 4226])"
      ]
     },
     "execution_count": 27,
     "metadata": {},
     "output_type": "execute_result"
    }
   ],
   "source": [
    "X_train[0]"
   ]
  },
  {
   "cell_type": "code",
   "execution_count": 30,
   "metadata": {},
   "outputs": [],
   "source": [
    "# Build RNN model\n",
    "model = Sequential()\n",
    "model.add(Embedding(input_dim=voc_size, output_dim=128, input_length=max_length))\n",
    "model.add(SimpleRNN(128, activation=\"relu\", return_sequences=True))\n",
    "model.add(SimpleRNN(64, activation=\"relu\"))\n",
    "model.add(Dense(1, activation=\"sigmoid\"))"
   ]
  },
  {
   "cell_type": "code",
   "execution_count": 31,
   "metadata": {},
   "outputs": [
    {
     "name": "stdout",
     "output_type": "stream",
     "text": [
      "Model: \"sequential_1\"\n",
      "_________________________________________________________________\n",
      " Layer (type)                Output Shape              Param #   \n",
      "=================================================================\n",
      " embedding_1 (Embedding)     (None, 500, 128)          1280000   \n",
      "                                                                 \n",
      " simple_rnn_1 (SimpleRNN)    (None, 500, 128)          32896     \n",
      "                                                                 \n",
      " simple_rnn_2 (SimpleRNN)    (None, 64)                12352     \n",
      "                                                                 \n",
      " dense_1 (Dense)             (None, 1)                 65        \n",
      "                                                                 \n",
      "=================================================================\n",
      "Total params: 1325313 (5.06 MB)\n",
      "Trainable params: 1325313 (5.06 MB)\n",
      "Non-trainable params: 0 (0.00 Byte)\n",
      "_________________________________________________________________\n"
     ]
    }
   ],
   "source": [
    "model.summary()"
   ]
  },
  {
   "cell_type": "code",
   "execution_count": 32,
   "metadata": {},
   "outputs": [
    {
     "name": "stdout",
     "output_type": "stream",
     "text": [
      "WARNING:tensorflow:From d:\\machine-learning\\deep-learning-project\\Restaurant-Reviews-RNN-Problem\\venv\\Lib\\site-packages\\keras\\src\\optimizers\\__init__.py:309: The name tf.train.Optimizer is deprecated. Please use tf.compat.v1.train.Optimizer instead.\n",
      "\n"
     ]
    }
   ],
   "source": [
    "# compile the model\n",
    "model.compile(optimizer=\"adam\", loss=\"binary_crossentropy\", metrics=['accuracy'])"
   ]
  },
  {
   "cell_type": "code",
   "execution_count": 33,
   "metadata": {},
   "outputs": [],
   "source": [
    "# Setup EarlyStopping\n",
    "earlystoping = EarlyStopping(monitor=\"val_loss\", patience=10, restore_best_weights=True)"
   ]
  },
  {
   "cell_type": "code",
   "execution_count": 34,
   "metadata": {},
   "outputs": [
    {
     "name": "stdout",
     "output_type": "stream",
     "text": [
      "Epoch 1/100\n",
      "WARNING:tensorflow:From d:\\machine-learning\\deep-learning-project\\Restaurant-Reviews-RNN-Problem\\venv\\Lib\\site-packages\\keras\\src\\utils\\tf_utils.py:492: The name tf.ragged.RaggedTensorValue is deprecated. Please use tf.compat.v1.ragged.RaggedTensorValue instead.\n",
      "\n",
      "WARNING:tensorflow:From d:\\machine-learning\\deep-learning-project\\Restaurant-Reviews-RNN-Problem\\venv\\Lib\\site-packages\\keras\\src\\engine\\base_layer_utils.py:384: The name tf.executing_eagerly_outside_functions is deprecated. Please use tf.compat.v1.executing_eagerly_outside_functions instead.\n",
      "\n",
      "125/125 [==============================] - 26s 177ms/step - loss: 0.5173 - accuracy: 0.7397 - val_loss: 0.3909 - val_accuracy: 0.8302\n",
      "Epoch 2/100\n",
      "125/125 [==============================] - 21s 171ms/step - loss: 0.2650 - accuracy: 0.8982 - val_loss: 0.3060 - val_accuracy: 0.8719\n",
      "Epoch 3/100\n",
      "125/125 [==============================] - 24s 189ms/step - loss: 0.1821 - accuracy: 0.9322 - val_loss: 0.3201 - val_accuracy: 0.8749\n",
      "Epoch 4/100\n",
      "125/125 [==============================] - 25s 198ms/step - loss: 0.1310 - accuracy: 0.9532 - val_loss: 0.3716 - val_accuracy: 0.8634\n",
      "Epoch 5/100\n",
      "125/125 [==============================] - 26s 206ms/step - loss: 0.1132 - accuracy: 0.9583 - val_loss: 0.4020 - val_accuracy: 0.8599\n",
      "Epoch 6/100\n",
      "125/125 [==============================] - 24s 195ms/step - loss: 0.0873 - accuracy: 0.9682 - val_loss: 0.5668 - val_accuracy: 0.8694\n",
      "Epoch 7/100\n",
      "125/125 [==============================] - 24s 194ms/step - loss: 0.0601 - accuracy: 0.9803 - val_loss: 0.5931 - val_accuracy: 0.8559\n",
      "Epoch 8/100\n",
      "125/125 [==============================] - 28s 222ms/step - loss: 0.0398 - accuracy: 0.9862 - val_loss: 0.8178 - val_accuracy: 0.8473\n",
      "Epoch 9/100\n",
      "125/125 [==============================] - 26s 212ms/step - loss: 0.0348 - accuracy: 0.9883 - val_loss: 0.6311 - val_accuracy: 0.8518\n",
      "Epoch 10/100\n",
      "125/125 [==============================] - 26s 206ms/step - loss: 0.0324 - accuracy: 0.9905 - val_loss: 0.7601 - val_accuracy: 0.8538\n",
      "Epoch 11/100\n",
      "125/125 [==============================] - 25s 202ms/step - loss: 0.0262 - accuracy: 0.9918 - val_loss: 0.8620 - val_accuracy: 0.8513\n",
      "Epoch 12/100\n",
      "125/125 [==============================] - 26s 205ms/step - loss: 0.0230 - accuracy: 0.9920 - val_loss: 0.7910 - val_accuracy: 0.8478\n"
     ]
    }
   ],
   "source": [
    "# Train the model\n",
    "history = model.fit(\n",
    "    X_train,\n",
    "    y_train,\n",
    "    epochs=100,\n",
    "    batch_size=64,\n",
    "    validation_data=[X_test, y_test],\n",
    "    callbacks=[earlystoping]\n",
    ")"
   ]
  },
  {
   "cell_type": "code",
   "execution_count": 85,
   "metadata": {},
   "outputs": [],
   "source": [
    "# save model\n",
    "model.save(\"simple_rnn.h5\")"
   ]
  },
  {
   "cell_type": "code",
   "execution_count": 80,
   "metadata": {},
   "outputs": [
    {
     "name": "stdout",
     "output_type": "stream",
     "text": [
      "63/63 [==============================] - 1s 21ms/step - loss: 0.4762 - accuracy: 0.8508\n"
     ]
    }
   ],
   "source": [
    "test_loss, test_acc = model.evaluate(X_test, y_test)"
   ]
  },
  {
   "cell_type": "code",
   "execution_count": 81,
   "metadata": {},
   "outputs": [
    {
     "data": {
      "image/png": "[encoded data removed]",
      "text/plain": [
       "<Figure size 640x480 with 1 Axes>"
      ]
     },
     "metadata": {},
     "output_type": "display_data"
    }
   ],
   "source": [
    "plt.plot(history.history['loss'], label=\"Train Loss\")\n",
    "plt.plot(history.history['val_loss'], label=\"Validation Loss\")\n",
    "plt.grid()\n",
    "plt.title('Model Loss')\n",
    "plt.ylabel('Loss')\n",
    "plt.xlabel('Epoch')\n",
    "plt.legend(loc='best')\n",
    "plt.show()"
   ]
  },
  {
   "cell_type": "markdown",
   "metadata": {},
   "source": [
    "## Prediction for new data"
   ]
  },
  {
   "cell_type": "code",
   "execution_count": 86,
   "metadata": {},
   "outputs": [],
   "source": [
    "# load model\n",
    "from tensorflow.keras.models import load_model\n",
    "\n",
    "model = load_model('simple_rnn.h5')"
   ]
  },
  {
   "cell_type": "code",
   "execution_count": 80,
   "metadata": {},
   "outputs": [
    {
     "name": "stdout",
     "output_type": "stream",
     "text": [
      "Model: \"sequential\"\n",
      "_________________________________________________________________\n",
      " Layer (type)                Output Shape              Param #   \n",
      "=================================================================\n",
      " embedding (Embedding)       (None, 500, 128)          1280000   \n",
      "                                                                 \n",
      " simple_rnn (SimpleRNN)      (None, 128)               32896     \n",
      "                                                                 \n",
      " dense (Dense)               (None, 1)                 129       \n",
      "                                                                 \n",
      "=================================================================\n",
      "Total params: 1313025 (5.01 MB)\n",
      "Trainable params: 1313025 (5.01 MB)\n",
      "Non-trainable params: 0 (0.00 Byte)\n",
      "_________________________________________________________________\n"
     ]
    }
   ],
   "source": [
    "model.summary()"
   ]
  },
  {
   "cell_type": "code",
   "execution_count": null,
   "metadata": {},
   "outputs": [
    {
     "data": {
      "text/plain": [
       "[array([[ 0.04005688, -0.03784377,  0.00614607, ..., -0.03008673,\n",
       "         -0.01030227, -0.02486211],\n",
       "        [-0.09897067,  0.05355093,  0.03110246, ...,  0.12200399,\n",
       "          0.11210763, -0.09956556],\n",
       "        [-0.04543601,  0.03024626,  0.03370157, ..., -0.04964056,\n",
       "          0.02487493, -0.00916155],\n",
       "        ...,\n",
       "        [ 0.02238383, -0.06545092,  0.02303667, ...,  0.03071588,\n",
       "         -0.05457491,  0.01446515],\n",
       "        [-0.0107725 ,  0.02156191,  0.03440575, ...,  0.01573543,\n",
       "          0.01630187,  0.04437478],\n",
       "        [ 0.01765785, -0.03100595,  0.04676366, ..., -0.03206742,\n",
       "          0.03191059, -0.04207715]], dtype=float32),\n",
       " array([[-0.09619282, -0.01556977,  0.04601688, ...,  0.08055256,\n",
       "         -0.09337303,  0.17617156],\n",
       "        [-0.0074662 ,  0.06227415,  0.06118024, ..., -0.19229713,\n",
       "          0.0605664 ,  0.07876564],\n",
       "        [-0.11952519,  0.05746726, -0.13796842, ..., -0.01871022,\n",
       "         -0.0613776 , -0.04068087],\n",
       "        ...,\n",
       "        [-0.03185977,  0.01211576,  0.05471322, ..., -0.18623812,\n",
       "         -0.07568696, -0.06825607],\n",
       "        [ 0.02223366, -0.02848411, -0.18536885, ..., -0.08864714,\n",
       "          0.05085321,  0.01605019],\n",
       "        [ 0.1534119 ,  0.02606984, -0.00945439, ..., -0.0914536 ,\n",
       "          0.16891503,  0.02476797]], dtype=float32),\n",
       " array([[ 0.0560956 , -0.09867323, -0.03106256, ..., -0.11611012,\n",
       "         -0.20796196,  0.02829647],\n",
       "        [-0.13046522,  0.08520465, -0.03420472, ..., -0.11268938,\n",
       "          0.0576153 ,  0.05490828],\n",
       "        [-0.20318347, -0.11939893,  0.07614017, ...,  0.13539205,\n",
       "         -0.07355485,  0.07625097],\n",
       "        ...,\n",
       "        [-0.11690366, -0.11404948,  0.03761082, ...,  0.0183355 ,\n",
       "          0.11179763, -0.02320894],\n",
       "        [-0.00142598,  0.00567761, -0.04232457, ...,  0.03759808,\n",
       "         -0.04064371,  0.12107433],\n",
       "        [-0.10342308, -0.02271836, -0.1132469 , ...,  0.12572956,\n",
       "          0.05305447, -0.01615181]], dtype=float32),\n",
       " array([-0.02102242, -0.03362543,  0.03975157, -0.0355581 , -0.03100652,\n",
       "         0.03570213, -0.02592904, -0.01348714, -0.04681304, -0.00624666,\n",
       "        -0.0161809 ,  0.00732937, -0.03233146, -0.02352042, -0.00593026,\n",
       "        -0.02435902, -0.0363294 ,  0.02170556, -0.02918967, -0.04121226,\n",
       "        -0.02316474,  0.04069709,  0.03353237, -0.02273471, -0.00327861,\n",
       "        -0.00617801,  0.05671788,  0.03277886, -0.0139405 , -0.02277451,\n",
       "        -0.02257394,  0.01374539,  0.03134675,  0.00997021, -0.02461434,\n",
       "         0.05023926,  0.00868309,  0.04696405, -0.01217069,  0.03139654,\n",
       "         0.01931058, -0.0197203 ,  0.02455315,  0.01484283,  0.03483006,\n",
       "        -0.01342575, -0.01307945,  0.02798697,  0.06628661,  0.0004701 ,\n",
       "         0.00364424,  0.02719758,  0.03173608,  0.02419019, -0.02161627,\n",
       "         0.00090483, -0.01175108,  0.02298354,  0.0202622 , -0.0267944 ,\n",
       "         0.02879991,  0.00378865,  0.02409187, -0.00381498,  0.04525247,\n",
       "        -0.03313673, -0.01343668, -0.02388391, -0.00450948,  0.04831115,\n",
       "         0.00197836,  0.00200782, -0.03800866,  0.0360148 ,  0.02239524,\n",
       "        -0.03579792,  0.06445782, -0.02592816, -0.02652739, -0.01226249,\n",
       "        -0.0458257 ,  0.04331346, -0.03049722,  0.0443555 ,  0.02464242,\n",
       "        -0.03924599, -0.01777233, -0.049952  , -0.03832754,  0.00198353,\n",
       "        -0.03894564, -0.03179886,  0.0483473 , -0.02666675, -0.02926909,\n",
       "         0.02582079, -0.03423993, -0.03971146, -0.00147983,  0.03114749,\n",
       "         0.01152366, -0.02437117, -0.01426135, -0.02457482, -0.01537283,\n",
       "        -0.03120738, -0.0204674 ,  0.04300298,  0.01727438, -0.05195689,\n",
       "        -0.0246814 , -0.0193525 , -0.02951279,  0.01834463, -0.01304783,\n",
       "        -0.02389471, -0.01709771,  0.05456502, -0.02184023, -0.01631293,\n",
       "        -0.0253868 , -0.03606338, -0.04514329,  0.03056482, -0.02189471,\n",
       "         0.00159752,  0.0059859 ,  0.0172743 ], dtype=float32),\n",
       " array([[ 0.1047091 ],\n",
       "        [-0.11056929],\n",
       "        [-0.26844716],\n",
       "        [ 0.28431264],\n",
       "        [-0.06493844],\n",
       "        [-0.33416787],\n",
       "        [ 0.09776053],\n",
       "        [ 0.38850924],\n",
       "        [-0.16323772],\n",
       "        [ 0.0017371 ],\n",
       "        [ 0.26523086],\n",
       "        [-0.2010826 ],\n",
       "        [ 0.13171999],\n",
       "        [-0.02769574],\n",
       "        [-0.12425373],\n",
       "        [-0.4994883 ],\n",
       "        [-0.04909306],\n",
       "        [-0.2669352 ],\n",
       "        [ 0.05571597],\n",
       "        [-0.19512656],\n",
       "        [-0.14116591],\n",
       "        [-0.17860736],\n",
       "        [ 0.3234638 ],\n",
       "        [ 0.32802573],\n",
       "        [-0.5191898 ],\n",
       "        [-0.07515358],\n",
       "        [ 0.05492361],\n",
       "        [-0.06033865],\n",
       "        [ 0.0412136 ],\n",
       "        [-0.08151437],\n",
       "        [ 0.17571343],\n",
       "        [-0.03861421],\n",
       "        [-0.4923712 ],\n",
       "        [-0.380229  ],\n",
       "        [ 0.34655473],\n",
       "        [-0.1558931 ],\n",
       "        [-0.14734845],\n",
       "        [ 0.13089664],\n",
       "        [ 0.47221893],\n",
       "        [-0.3290685 ],\n",
       "        [ 0.36077043],\n",
       "        [ 0.41178423],\n",
       "        [-0.12446322],\n",
       "        [-0.15960206],\n",
       "        [-0.08809934],\n",
       "        [ 0.35763916],\n",
       "        [ 0.35156903],\n",
       "        [-0.00304373],\n",
       "        [ 0.04508746],\n",
       "        [-0.5110138 ],\n",
       "        [-0.3871427 ],\n",
       "        [ 0.29745966],\n",
       "        [-0.25830802],\n",
       "        [ 0.28718373],\n",
       "        [ 0.00779009],\n",
       "        [-0.12254057],\n",
       "        [-0.14050288],\n",
       "        [ 0.44607028],\n",
       "        [ 0.15319307],\n",
       "        [-0.13953343],\n",
       "        [-0.170491  ],\n",
       "        [-0.03506851],\n",
       "        [ 0.44393313],\n",
       "        [ 0.4026336 ],\n",
       "        [-0.32479095],\n",
       "        [ 0.14975137],\n",
       "        [ 0.2964186 ],\n",
       "        [-0.45005268],\n",
       "        [-0.382673  ],\n",
       "        [ 0.38619494],\n",
       "        [-0.40565544],\n",
       "        [-0.21975344],\n",
       "        [-0.01029129],\n",
       "        [ 0.29379544],\n",
       "        [-0.40125948],\n",
       "        [-0.15352891],\n",
       "        [-0.03378046],\n",
       "        [ 0.17839268],\n",
       "        [ 0.09444102],\n",
       "        [ 0.36217856],\n",
       "        [-0.05755195],\n",
       "        [-0.01679244],\n",
       "        [ 0.37624693],\n",
       "        [ 0.24811633],\n",
       "        [ 0.07065748],\n",
       "        [-0.4748449 ],\n",
       "        [ 0.14571899],\n",
       "        [-0.10391139],\n",
       "        [-0.03337255],\n",
       "        [-0.18489078],\n",
       "        [-0.01921559],\n",
       "        [ 0.17240264],\n",
       "        [ 0.20467792],\n",
       "        [-0.01594871],\n",
       "        [-0.048018  ],\n",
       "        [ 0.5505682 ],\n",
       "        [ 0.04066905],\n",
       "        [-0.09276266],\n",
       "        [-0.09080556],\n",
       "        [-0.25000498],\n",
       "        [-0.0718873 ],\n",
       "        [ 0.32518736],\n",
       "        [-0.3187618 ],\n",
       "        [ 0.32914534],\n",
       "        [ 0.37362263],\n",
       "        [ 0.30734733],\n",
       "        [-0.05227185],\n",
       "        [-0.315255  ],\n",
       "        [-0.47341427],\n",
       "        [ 0.02631493],\n",
       "        [ 0.28066838],\n",
       "        [ 0.1820202 ],\n",
       "        [-0.09510637],\n",
       "        [-0.38476408],\n",
       "        [-0.340152  ],\n",
       "        [ 0.04836478],\n",
       "        [ 0.42475286],\n",
       "        [-0.1288434 ],\n",
       "        [ 0.22162858],\n",
       "        [ 0.31091866],\n",
       "        [ 0.12086598],\n",
       "        [ 0.1949018 ],\n",
       "        [-0.06140673],\n",
       "        [ 0.3761923 ],\n",
       "        [ 0.3694276 ],\n",
       "        [-0.20354933],\n",
       "        [-0.08129063],\n",
       "        [-0.3359969 ]], dtype=float32),\n",
       " array([0.01617357], dtype=float32)]"
      ]
     },
     "execution_count": 81,
     "metadata": {},
     "output_type": "execute_result"
    }
   ],
   "source": [
    "model.get_weights()"
   ]
  },
  {
   "cell_type": "code",
   "execution_count": null,
   "metadata": {},
   "outputs": [],
   "source": [
    "# load model\n",
    "from tensorflow.keras.models import load_model\n",
    "\n",
    "model = load_model('simple_rnn.h5')\n",
    "\n",
    "def preprocess_text(text):\n",
    "    reviews = re.sub('[^a-zA-Z]', ' ', text)\n",
    "    reviews = reviews.lower() \n",
    "    encoded_review = one_hot(reviews, voc_size)\n",
    "    padded_review = pad_sequences([encoded_review], maxlen=max_length)\n",
    "    return padded_review\n",
    "\n",
    "\n",
    "def predict_sentiment(review):\n",
    "    processes_input = preprocess_text(review)\n",
    "    prediction = model.predict(processes_input)\n",
    "    \n",
    "    sentiment = 'Positive' if prediction[0][0] > 0.5 else 'Negative'\n",
    "    \n",
    "    return sentiment, prediction[0][0]\n",
    "\n",
    "example_review = \"Crust is good\"\n",
    "\n",
    "sentiment, score = predict_sentiment(example_review)\n",
    "\n",
    "print(\"Review Text: \", example_review)\n",
    "print(\"Sentiment: \", sentiment)\n",
    "print(\"Score: \", score)"
   ]
  },
  {
   "cell_type": "code",
   "execution_count": 102,
   "metadata": {},
   "outputs": [],
   "source": [
    "\n",
    "# Function to preprocess user input\n",
    "def preprocess_text(text):\n",
    "    reviews = re.sub('[^a-zA-Z]', ' ', text)\n",
    "    reviews = reviews.lower() \n",
    "    encoded_review = one_hot(reviews, voc_size)\n",
    "    padded_review = pad_sequences([encoded_review], maxlen=max_length)\n",
    "    return padded_review\n"
   ]
  },
  {
   "cell_type": "markdown",
   "metadata": {},
   "source": []
  },
  {
   "cell_type": "code",
   "execution_count": 103,
   "metadata": {},
   "outputs": [],
   "source": [
    "def predict_sentiment(review):\n",
    "    processes_input = preprocess_text(review)\n",
    "    prediction = model.predict(processes_input)\n",
    "    \n",
    "    sentiment = 'Positive' if prediction[0][0] > 0.5 else 'Negative'\n",
    "    \n",
    "    return sentiment, prediction[0][0]\n",
    "\n",
    "    \n"
   ]
  },
  {
   "cell_type": "code",
   "execution_count": 116,
   "metadata": {},
   "outputs": [
    {
     "name": "stdout",
     "output_type": "stream",
     "text": [
      "1/1 [==============================] - 0s 34ms/step\n",
      "Review Text:  Ample portions and good prices\n",
      "Sentiment:  Positive\n",
      "Score:  0.9999917\n"
     ]
    }
   ],
   "source": [
    "example_review = \"Ample portions and good prices\"\n",
    "\n",
    "sentiment, score = predict_sentiment(example_review)\n",
    "\n",
    "print(\"Review Text: \", example_review)\n",
    "print(\"Sentiment: \", sentiment)\n",
    "print(\"Score: \", score)"
   ]
  },
  {
   "cell_type": "code",
   "execution_count": null,
   "metadata": {},
   "outputs": [],
   "source": []
  },
  {
   "cell_type": "code",
   "execution_count": null,
   "metadata": {},
   "outputs": [],
   "source": []
  }
 ],
 "metadata": {
  "kernelspec": {
   "display_name": "Python 3",
   "language": "python",
   "name": "python3"
  },
  "language_info": {
   "codemirror_mode": {
    "name": "ipython",
    "version": 3
   },
   "file_extension": ".py",
   "mimetype": "text/x-python",
   "name": "python",
   "nbconvert_exporter": "python",
   "pygments_lexer": "ipython3",
   "version": "3.11.11"
  }
 },
 "nbformat": 4,
 "nbformat_minor": 2
}
